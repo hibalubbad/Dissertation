{
  "cells": [
    {
      "cell_type": "code",
      "execution_count": null,
      "metadata": {
        "id": "kXrHXYQIYjm_"
      },
      "outputs": [],
      "source": [
        "!apt-cache policy libcudnn8\n",
        "!apt install --allow-change-held-packages libcudnn8=8.4.1.50-1+cuda11.6\n",
        "!export PATH=/usr/local/cuda-11.4/bin${PATH:+:${PATH}}\n",
        "!export LD_LIBRARY_PATH=/usr/local/cuda-11.4/lib64:$LD_LIBRARY_PATH\n",
        "!export LD_LIBRARY_PATH=/usr/local/cuda-11.4/include:$LD_LIBRARY_PATH \n",
        "!export LD_LIBRARY_PATH=$LD_LIBRARY_PATH:/usr/local/cuda/extras/CUPTI/lib64"
      ]
    },
    {
      "cell_type": "code",
      "execution_count": null,
      "metadata": {
        "id": "LR0KDV-lAP2N"
      },
      "outputs": [],
      "source": [
        "!pip install tensorflow_text\n",
        "!pip install tf-models-official"
      ]
    },
    {
      "cell_type": "code",
      "execution_count": 1,
      "metadata": {
        "id": "Xr_ueqtnAYz4"
      },
      "outputs": [],
      "source": [
        "import pandas as pd \n",
        "import tensorflow as tf\n",
        "import tensorflow_text as texts\n",
        "import tensorflow_hub as hub\n",
        "import pandas as pd\n",
        "from wordcloud import WordCloud, STOPWORDS, ImageColorGenerator \n",
        "import matplotlib.pyplot as plt\n",
        "import numpy as np # linear algebra\n",
        "import pandas as pd # data processing, CSV file I/O (e.g. pd.read_csv) \n",
        "from tqdm import tqdm \n",
        "from official.nlp import optimization \n",
        "import seaborn as sns\n",
        "import os "
      ]
    },
    {
      "cell_type": "code",
      "execution_count": null,
      "metadata": {
        "colab": {
          "base_uri": "https://localhost:8080/"
        },
        "id": "lZbkZNReA2x1",
        "outputId": "6fa9681a-3a43-4777-acbf-418162a7af47"
      },
      "outputs": [
        {
          "output_type": "stream",
          "name": "stdout",
          "text": [
            "Drive already mounted at /content/drive; to attempt to forcibly remount, call drive.mount(\"/content/drive\", force_remount=True).\n"
          ]
        }
      ],
      "source": [
        "from google.colab import drive\n",
        "drive.mount('/content/drive')"
      ]
    },
    {
      "cell_type": "code",
      "execution_count": null,
      "metadata": {
        "id": "iCVQmUClAAxb"
      },
      "outputs": [],
      "source": [
        "# data cleaning\n",
        "!pip install emoji\n",
        "import nltk\n",
        "nltk.download('omw-1.4')\n",
        "nltk.download('wordnet')\n",
        "import emoji\n",
        "import re\n",
        "import string\n",
        "from tensorflow.python.compiler import xla\n",
        "from seaborn.colors import xkcd_rgb\n",
        "stopwords = set(STOPWORDS)\n",
        "stopwords.update([\"nan\"])\n",
        "from nltk.stem.porter import *\n",
        "from nltk.stem import WordNetLemmatizer \n",
        "stemmer = PorterStemmer()\n",
        "lemmatizer = WordNetLemmatizer()\n",
        "\n",
        "def text_clean(x):\n",
        "\n",
        "    ### Light\n",
        "    x = x.lower() # lowercase everything\n",
        "    x = x.encode('ascii', 'ignore').decode()  # remove unicode characters\n",
        "    x = ''.join(c for c in x if len(emoji.distinct_emoji_list(c))==0)\n",
        "    x = re.sub(r\"(?:\\@|http?\\://|https?\\://|www)\\S+\", \"\", x) # remove links\n",
        "    # cleaning up text\n",
        "    x = re.sub(r'\\'\\w+', '', x) \n",
        "    x =re.sub(r\"([0-9])\", r\" \",x)  \n",
        "    x = re.sub(r'\\s{2,}', ' ', x)\n",
        "    x=re.sub(' +', ' ', x).strip(' ') \n",
        "    \n",
        "    ### Heavy\n",
        "    x = re.sub(\"@[A-Za-z0-9]+\",\"\",x)\n",
        "    x = x.replace(\"#\", \"\").replace(\"_\", \" \")\n",
        "    x = re.sub('[%s]' % re.escape(string.punctuation), ' ', x)\n",
        "    \n",
        "    # remove single letters and numbers surrounded by space\n",
        "    x = re.sub(r'\\s[a-z]\\s|\\s[0-9]\\s', ' ', x)\n",
        "    x = x.split() \n",
        "    x =  [word for word in x if (word not in stopwords) and len(word) > 3]\n",
        "    x=\" \".join(x)\n",
        "    x = [stemmer.stem(word) for word in x.split(' ')]\n",
        "    x=\" \".join(x)\n",
        "    x = [lemmatizer.lemmatize(word) for word in x.split(' ')]\n",
        "    x=\" \".join(x)\n",
        "    return x"
      ]
    },
    {
      "cell_type": "code",
      "source": [
        "tweets = [\"Get ready for #NatGeoEarthDay! Join us on 4/21 for an evening of music and celebration, exploration and inspiration https://on.natgeo.com/3t0wzQy.\",\n",
        "\"Coral in the shallows of Aitutaki Lagoon, Cook Islands, Polynesia https://on.natgeo.com/3gkgq4Z\",\n",
        "\"Don't miss our @reddit AMA with author and climber Mark Synnott who will be answering your questions about his historic journey to the North Face of Everest TODAY at 12:00pm ET! Start submitting your questions here: https://on.natgeo.com/3ddSkHk @DuttonBooks\"]\n",
        "\n",
        "results = [text_clean(tw) for tw in tweets]\n",
        "results"
      ],
      "metadata": {
        "id": "1BEgy90n3uXn"
      },
      "execution_count": null,
      "outputs": []
    },
    {
      "cell_type": "code",
      "execution_count": 11,
      "metadata": {
        "colab": {
          "base_uri": "https://localhost:8080/",
          "height": 424
        },
        "id": "SP9JZseAAz6N",
        "outputId": "954f9a9f-f456-4198-c88e-b957ee958d52"
      },
      "outputs": [
        {
          "output_type": "execute_result",
          "data": {
            "text/plain": [
              "       label                                              tweet\n",
              "0          0   @user when a father is dysfunctional and is s...\n",
              "1          0  @user @user thanks for #lyft credit i can't us...\n",
              "2          0                                bihday your majesty\n",
              "3          0  #model   i love u take with u all the time in ...\n",
              "4          0             factsguide: society now    #motivation\n",
              "...      ...                                                ...\n",
              "58716      1  Drasko they didn't cook half a bird you idiot ...\n",
              "58717      1  Hopefully someone cooks Drasko in the next ep ...\n",
              "58718      1  #MKR  Lost the plot - where's the big Texan wi...\n",
              "58719      1  RT @Benfrancisallen: It hasn't been a good few...\n",
              "58720      1  RT @TIME: 'Charlie Hebdo' editor killed in Par...\n",
              "\n",
              "[58721 rows x 2 columns]"
            ],
            "text/html": [
              "\n",
              "  <div id=\"df-75c9a803-ffce-41dc-9a90-2add0aaa91a2\">\n",
              "    <div class=\"colab-df-container\">\n",
              "      <div>\n",
              "<style scoped>\n",
              "    .dataframe tbody tr th:only-of-type {\n",
              "        vertical-align: middle;\n",
              "    }\n",
              "\n",
              "    .dataframe tbody tr th {\n",
              "        vertical-align: top;\n",
              "    }\n",
              "\n",
              "    .dataframe thead th {\n",
              "        text-align: right;\n",
              "    }\n",
              "</style>\n",
              "<table border=\"1\" class=\"dataframe\">\n",
              "  <thead>\n",
              "    <tr style=\"text-align: right;\">\n",
              "      <th></th>\n",
              "      <th>label</th>\n",
              "      <th>tweet</th>\n",
              "    </tr>\n",
              "  </thead>\n",
              "  <tbody>\n",
              "    <tr>\n",
              "      <th>0</th>\n",
              "      <td>0</td>\n",
              "      <td>@user when a father is dysfunctional and is s...</td>\n",
              "    </tr>\n",
              "    <tr>\n",
              "      <th>1</th>\n",
              "      <td>0</td>\n",
              "      <td>@user @user thanks for #lyft credit i can't us...</td>\n",
              "    </tr>\n",
              "    <tr>\n",
              "      <th>2</th>\n",
              "      <td>0</td>\n",
              "      <td>bihday your majesty</td>\n",
              "    </tr>\n",
              "    <tr>\n",
              "      <th>3</th>\n",
              "      <td>0</td>\n",
              "      <td>#model   i love u take with u all the time in ...</td>\n",
              "    </tr>\n",
              "    <tr>\n",
              "      <th>4</th>\n",
              "      <td>0</td>\n",
              "      <td>factsguide: society now    #motivation</td>\n",
              "    </tr>\n",
              "    <tr>\n",
              "      <th>...</th>\n",
              "      <td>...</td>\n",
              "      <td>...</td>\n",
              "    </tr>\n",
              "    <tr>\n",
              "      <th>58716</th>\n",
              "      <td>1</td>\n",
              "      <td>Drasko they didn't cook half a bird you idiot ...</td>\n",
              "    </tr>\n",
              "    <tr>\n",
              "      <th>58717</th>\n",
              "      <td>1</td>\n",
              "      <td>Hopefully someone cooks Drasko in the next ep ...</td>\n",
              "    </tr>\n",
              "    <tr>\n",
              "      <th>58718</th>\n",
              "      <td>1</td>\n",
              "      <td>#MKR  Lost the plot - where's the big Texan wi...</td>\n",
              "    </tr>\n",
              "    <tr>\n",
              "      <th>58719</th>\n",
              "      <td>1</td>\n",
              "      <td>RT @Benfrancisallen: It hasn't been a good few...</td>\n",
              "    </tr>\n",
              "    <tr>\n",
              "      <th>58720</th>\n",
              "      <td>1</td>\n",
              "      <td>RT @TIME: 'Charlie Hebdo' editor killed in Par...</td>\n",
              "    </tr>\n",
              "  </tbody>\n",
              "</table>\n",
              "<p>58721 rows × 2 columns</p>\n",
              "</div>\n",
              "      <button class=\"colab-df-convert\" onclick=\"convertToInteractive('df-75c9a803-ffce-41dc-9a90-2add0aaa91a2')\"\n",
              "              title=\"Convert this dataframe to an interactive table.\"\n",
              "              style=\"display:none;\">\n",
              "        \n",
              "  <svg xmlns=\"http://www.w3.org/2000/svg\" height=\"24px\"viewBox=\"0 0 24 24\"\n",
              "       width=\"24px\">\n",
              "    <path d=\"M0 0h24v24H0V0z\" fill=\"none\"/>\n",
              "    <path d=\"M18.56 5.44l.94 2.06.94-2.06 2.06-.94-2.06-.94-.94-2.06-.94 2.06-2.06.94zm-11 1L8.5 8.5l.94-2.06 2.06-.94-2.06-.94L8.5 2.5l-.94 2.06-2.06.94zm10 10l.94 2.06.94-2.06 2.06-.94-2.06-.94-.94-2.06-.94 2.06-2.06.94z\"/><path d=\"M17.41 7.96l-1.37-1.37c-.4-.4-.92-.59-1.43-.59-.52 0-1.04.2-1.43.59L10.3 9.45l-7.72 7.72c-.78.78-.78 2.05 0 2.83L4 21.41c.39.39.9.59 1.41.59.51 0 1.02-.2 1.41-.59l7.78-7.78 2.81-2.81c.8-.78.8-2.07 0-2.86zM5.41 20L4 18.59l7.72-7.72 1.47 1.35L5.41 20z\"/>\n",
              "  </svg>\n",
              "      </button>\n",
              "      \n",
              "  <style>\n",
              "    .colab-df-container {\n",
              "      display:flex;\n",
              "      flex-wrap:wrap;\n",
              "      gap: 12px;\n",
              "    }\n",
              "\n",
              "    .colab-df-convert {\n",
              "      background-color: #E8F0FE;\n",
              "      border: none;\n",
              "      border-radius: 50%;\n",
              "      cursor: pointer;\n",
              "      display: none;\n",
              "      fill: #1967D2;\n",
              "      height: 32px;\n",
              "      padding: 0 0 0 0;\n",
              "      width: 32px;\n",
              "    }\n",
              "\n",
              "    .colab-df-convert:hover {\n",
              "      background-color: #E2EBFA;\n",
              "      box-shadow: 0px 1px 2px rgba(60, 64, 67, 0.3), 0px 1px 3px 1px rgba(60, 64, 67, 0.15);\n",
              "      fill: #174EA6;\n",
              "    }\n",
              "\n",
              "    [theme=dark] .colab-df-convert {\n",
              "      background-color: #3B4455;\n",
              "      fill: #D2E3FC;\n",
              "    }\n",
              "\n",
              "    [theme=dark] .colab-df-convert:hover {\n",
              "      background-color: #434B5C;\n",
              "      box-shadow: 0px 1px 3px 1px rgba(0, 0, 0, 0.15);\n",
              "      filter: drop-shadow(0px 1px 2px rgba(0, 0, 0, 0.3));\n",
              "      fill: #FFFFFF;\n",
              "    }\n",
              "  </style>\n",
              "\n",
              "      <script>\n",
              "        const buttonEl =\n",
              "          document.querySelector('#df-75c9a803-ffce-41dc-9a90-2add0aaa91a2 button.colab-df-convert');\n",
              "        buttonEl.style.display =\n",
              "          google.colab.kernel.accessAllowed ? 'block' : 'none';\n",
              "\n",
              "        async function convertToInteractive(key) {\n",
              "          const element = document.querySelector('#df-75c9a803-ffce-41dc-9a90-2add0aaa91a2');\n",
              "          const dataTable =\n",
              "            await google.colab.kernel.invokeFunction('convertToInteractive',\n",
              "                                                     [key], {});\n",
              "          if (!dataTable) return;\n",
              "\n",
              "          const docLinkHtml = 'Like what you see? Visit the ' +\n",
              "            '<a target=\"_blank\" href=https://colab.research.google.com/notebooks/data_table.ipynb>data table notebook</a>'\n",
              "            + ' to learn more about interactive tables.';\n",
              "          element.innerHTML = '';\n",
              "          dataTable['output_type'] = 'display_data';\n",
              "          await google.colab.output.renderOutput(dataTable, element);\n",
              "          const docLink = document.createElement('div');\n",
              "          docLink.innerHTML = docLinkHtml;\n",
              "          element.appendChild(docLink);\n",
              "        }\n",
              "      </script>\n",
              "    </div>\n",
              "  </div>\n",
              "  "
            ]
          },
          "metadata": {},
          "execution_count": 11
        }
      ],
      "source": [
        "#final dataset\n",
        "df = pd.read_csv(\"final2.csv\")\n",
        "df.drop(['Unnamed: 0'],axis=1,inplace=True)\n",
        "df"
      ]
    },
    {
      "cell_type": "code",
      "execution_count": 12,
      "metadata": {
        "colab": {
          "base_uri": "https://localhost:8080/"
        },
        "id": "vAdyByzKBFCL",
        "outputId": "d00461c4-a287-4533-c69d-7bb307c2470f"
      },
      "outputs": [
        {
          "output_type": "stream",
          "name": "stdout",
          "text": [
            "44040 44040\n",
            "11745 11745\n",
            "14681 14681\n"
          ]
        }
      ],
      "source": [
        "from sklearn.model_selection import train_test_split\n",
        "x=df['tweet']\n",
        "y=df['label']\n",
        "\n",
        "x_train, x_test, y_train, y_test = train_test_split(x, y, test_size=0.2, shuffle = True, random_state=42)\n",
        "\n",
        "\n",
        "x_train, x_val, y_train, y_val = train_test_split(x, y, test_size=0.25, shuffle = True, random_state=42)\n",
        "\n",
        "print(len(x_train), len(y_train))\n",
        "print(len(x_test), len(y_test)) \n",
        "print(len(x_val), len(y_val))"
      ]
    },
    {
      "cell_type": "code",
      "execution_count": 13,
      "metadata": {
        "id": "fGciFNwoJbqm"
      },
      "outputs": [],
      "source": [
        "x_train,x_test,x_val = x_train.apply(text_clean),x_test.apply(text_clean),x_val.apply(text_clean)"
      ]
    },
    {
      "cell_type": "code",
      "execution_count": 14,
      "metadata": {
        "id": "q0Fse9mvCmJf"
      },
      "outputs": [],
      "source": [
        "train_ds = tf.data.Dataset.from_tensor_slices((x_train, y_train))\n",
        "val_ds = tf.data.Dataset.from_tensor_slices((x_test, y_test))\n",
        "test_ds = tf.data.Dataset.from_tensor_slices((x_val,y_val))"
      ]
    },
    {
      "cell_type": "code",
      "execution_count": 15,
      "metadata": {
        "id": "e9js06XICr6x"
      },
      "outputs": [],
      "source": [
        "train_ds = train_ds.shuffle(len(x_train)).batch(32, drop_remainder=False)\n",
        "val_ds = val_ds.shuffle(len(x_val)).batch(32, drop_remainder=False)\n",
        "test_ds = test_ds.shuffle(len(x_test)).batch(32, drop_remainder=False)\n"
      ]
    },
    {
      "cell_type": "code",
      "execution_count": 16,
      "metadata": {
        "id": "yA5uiKnRoZ_f"
      },
      "outputs": [],
      "source": [
        "from keras.preprocessing.text import Tokenizer\n",
        "from keras.preprocessing import sequence\n",
        "from keras.optimizers import RMSprop, Adam\n",
        "from keras_preprocessing.sequence import pad_sequences\n",
        "\n",
        "loss = tf.keras.losses.BinaryCrossentropy(from_logits=True)\n",
        "metrics = tf.metrics.BinaryAccuracy()\n",
        "epochs = 40\n",
        "steps_per_epoch = tf.data.experimental.cardinality(test_ds).numpy()\n",
        "num_train_steps = steps_per_epoch * epochs\n",
        "num_warmup_steps = int(0.1*num_train_steps)\n",
        "\n",
        "init_lr = 3e-5\n",
        "optimizer = optimization.create_optimizer(init_lr=init_lr,\n",
        "                                          num_train_steps=num_train_steps,\n",
        "                                          num_warmup_steps=num_warmup_steps,\n",
        "                                          optimizer_type='adamw')\n",
        "max_words = 5000\n",
        "max_len = 15 \n",
        "tokenizer = Tokenizer(num_words=max_words)\n",
        "tokenizer.fit_on_texts(x_train)\n",
        "\n",
        "sequences_xtest = tokenizer.texts_to_sequences(x_test)\n",
        "sequences_matrix_xtest = pad_sequences(sequences_xtest,maxlen=max_len)"
      ]
    },
    {
      "cell_type": "code",
      "execution_count": null,
      "metadata": {
        "colab": {
          "base_uri": "https://localhost:8080/",
          "height": 311
        },
        "id": "pi3BNmebpXF-",
        "outputId": "a1d25a77-2812-48cf-b59e-c3c34faad714"
      },
      "outputs": [
        {
          "output_type": "error",
          "ename": "AssertionError",
          "evalue": "ignored",
          "traceback": [
            "\u001b[0;31m---------------------------------------------------------------------------\u001b[0m",
            "\u001b[0;31mAssertionError\u001b[0m                            Traceback (most recent call last)",
            "\u001b[0;32m<ipython-input-10-742802dbad10>\u001b[0m in \u001b[0;36m<module>\u001b[0;34m\u001b[0m\n\u001b[0;32m----> 1\u001b[0;31m \u001b[0mx_test\u001b[0m\u001b[0;34m.\u001b[0m\u001b[0mtake\u001b[0m\u001b[0;34m(\u001b[0m\u001b[0;34m-\u001b[0m\u001b[0;36m1\u001b[0m\u001b[0;34m)\u001b[0m\u001b[0;34m\u001b[0m\u001b[0;34m\u001b[0m\u001b[0m\n\u001b[0m",
            "\u001b[0;32m/usr/local/lib/python3.7/dist-packages/pandas/core/series.py\u001b[0m in \u001b[0;36mtake\u001b[0;34m(self, indices, axis, is_copy, **kwargs)\u001b[0m\n\u001b[1;32m    890\u001b[0m \u001b[0;34m\u001b[0m\u001b[0m\n\u001b[1;32m    891\u001b[0m         \u001b[0mindices\u001b[0m \u001b[0;34m=\u001b[0m \u001b[0mensure_platform_int\u001b[0m\u001b[0;34m(\u001b[0m\u001b[0mindices\u001b[0m\u001b[0;34m)\u001b[0m\u001b[0;34m\u001b[0m\u001b[0;34m\u001b[0m\u001b[0m\n\u001b[0;32m--> 892\u001b[0;31m         \u001b[0mnew_index\u001b[0m \u001b[0;34m=\u001b[0m \u001b[0mself\u001b[0m\u001b[0;34m.\u001b[0m\u001b[0mindex\u001b[0m\u001b[0;34m.\u001b[0m\u001b[0mtake\u001b[0m\u001b[0;34m(\u001b[0m\u001b[0mindices\u001b[0m\u001b[0;34m)\u001b[0m\u001b[0;34m\u001b[0m\u001b[0;34m\u001b[0m\u001b[0m\n\u001b[0m\u001b[1;32m    893\u001b[0m         \u001b[0mnew_values\u001b[0m \u001b[0;34m=\u001b[0m \u001b[0mself\u001b[0m\u001b[0;34m.\u001b[0m\u001b[0m_values\u001b[0m\u001b[0;34m.\u001b[0m\u001b[0mtake\u001b[0m\u001b[0;34m(\u001b[0m\u001b[0mindices\u001b[0m\u001b[0;34m)\u001b[0m\u001b[0;34m\u001b[0m\u001b[0;34m\u001b[0m\u001b[0m\n\u001b[1;32m    894\u001b[0m \u001b[0;34m\u001b[0m\u001b[0m\n",
            "\u001b[0;32m/usr/local/lib/python3.7/dist-packages/pandas/core/indexes/base.py\u001b[0m in \u001b[0;36mtake\u001b[0;34m(self, indices, axis, allow_fill, fill_value, **kwargs)\u001b[0m\n\u001b[1;32m    962\u001b[0m             \u001b[0mself\u001b[0m\u001b[0;34m.\u001b[0m\u001b[0m_values\u001b[0m\u001b[0;34m,\u001b[0m \u001b[0mindices\u001b[0m\u001b[0;34m,\u001b[0m \u001b[0mallow_fill\u001b[0m\u001b[0;34m=\u001b[0m\u001b[0mallow_fill\u001b[0m\u001b[0;34m,\u001b[0m \u001b[0mfill_value\u001b[0m\u001b[0;34m=\u001b[0m\u001b[0mself\u001b[0m\u001b[0;34m.\u001b[0m\u001b[0m_na_value\u001b[0m\u001b[0;34m\u001b[0m\u001b[0;34m\u001b[0m\u001b[0m\n\u001b[1;32m    963\u001b[0m         )\n\u001b[0;32m--> 964\u001b[0;31m         \u001b[0;32mreturn\u001b[0m \u001b[0mtype\u001b[0m\u001b[0;34m(\u001b[0m\u001b[0mself\u001b[0m\u001b[0;34m)\u001b[0m\u001b[0;34m.\u001b[0m\u001b[0m_simple_new\u001b[0m\u001b[0;34m(\u001b[0m\u001b[0mtaken\u001b[0m\u001b[0;34m,\u001b[0m \u001b[0mname\u001b[0m\u001b[0;34m=\u001b[0m\u001b[0mself\u001b[0m\u001b[0;34m.\u001b[0m\u001b[0mname\u001b[0m\u001b[0;34m)\u001b[0m\u001b[0;34m\u001b[0m\u001b[0;34m\u001b[0m\u001b[0m\n\u001b[0m\u001b[1;32m    965\u001b[0m \u001b[0;34m\u001b[0m\u001b[0m\n\u001b[1;32m    966\u001b[0m     \u001b[0;34m@\u001b[0m\u001b[0mfinal\u001b[0m\u001b[0;34m\u001b[0m\u001b[0;34m\u001b[0m\u001b[0m\n",
            "\u001b[0;32m/usr/local/lib/python3.7/dist-packages/pandas/core/indexes/base.py\u001b[0m in \u001b[0;36m_simple_new\u001b[0;34m(cls, values, name)\u001b[0m\n\u001b[1;32m    611\u001b[0m         \u001b[0mMust\u001b[0m \u001b[0mbe\u001b[0m \u001b[0mcareful\u001b[0m \u001b[0;32mnot\u001b[0m \u001b[0mto\u001b[0m \u001b[0mrecurse\u001b[0m\u001b[0;34m.\u001b[0m\u001b[0;34m\u001b[0m\u001b[0;34m\u001b[0m\u001b[0m\n\u001b[1;32m    612\u001b[0m         \"\"\"\n\u001b[0;32m--> 613\u001b[0;31m         \u001b[0;32massert\u001b[0m \u001b[0misinstance\u001b[0m\u001b[0;34m(\u001b[0m\u001b[0mvalues\u001b[0m\u001b[0;34m,\u001b[0m \u001b[0mnp\u001b[0m\u001b[0;34m.\u001b[0m\u001b[0mndarray\u001b[0m\u001b[0;34m)\u001b[0m\u001b[0;34m,\u001b[0m \u001b[0mtype\u001b[0m\u001b[0;34m(\u001b[0m\u001b[0mvalues\u001b[0m\u001b[0;34m)\u001b[0m\u001b[0;34m\u001b[0m\u001b[0;34m\u001b[0m\u001b[0m\n\u001b[0m\u001b[1;32m    614\u001b[0m \u001b[0;34m\u001b[0m\u001b[0m\n\u001b[1;32m    615\u001b[0m         \u001b[0mresult\u001b[0m \u001b[0;34m=\u001b[0m \u001b[0mobject\u001b[0m\u001b[0;34m.\u001b[0m\u001b[0m__new__\u001b[0m\u001b[0;34m(\u001b[0m\u001b[0mcls\u001b[0m\u001b[0;34m)\u001b[0m\u001b[0;34m\u001b[0m\u001b[0;34m\u001b[0m\u001b[0m\n",
            "\u001b[0;31mAssertionError\u001b[0m: <class 'numpy.int64'>"
          ]
        }
      ],
      "source": [
        "x_test.take(-1)"
      ]
    },
    {
      "cell_type": "code",
      "execution_count": 21,
      "metadata": {
        "id": "xScqaSQfBVhv"
      },
      "outputs": [],
      "source": [
        "model_save_name = 'overfitt.pt'\n",
        "path = \"/content/drive/MyDrive/Diss/GRUNN_epoch40_rl_drop2.h\"\n",
        "gnn_classifier_model = tf.keras.models.load_model(path,custom_objects={'AdamWeightDecay': optimizer})"
      ]
    },
    {
      "cell_type": "code",
      "source": [],
      "metadata": {
        "id": "t2UUPh9XJNeP"
      },
      "execution_count": null,
      "outputs": []
    },
    {
      "cell_type": "code",
      "source": [
        "imig[\"uk_gru_real\"]  = predictions_grunn "
      ],
      "metadata": {
        "colab": {
          "base_uri": "https://localhost:8080/"
        },
        "id": "WL3eReAtznsH",
        "outputId": "54b80f76-b931-4a0c-8cff-72bb2875805d"
      },
      "execution_count": 119,
      "outputs": [
        {
          "output_type": "stream",
          "name": "stderr",
          "text": [
            "/usr/local/lib/python3.7/dist-packages/ipykernel_launcher.py:1: SettingWithCopyWarning: \n",
            "A value is trying to be set on a copy of a slice from a DataFrame.\n",
            "Try using .loc[row_indexer,col_indexer] = value instead\n",
            "\n",
            "See the caveats in the documentation: https://pandas.pydata.org/pandas-docs/stable/user_guide/indexing.html#returning-a-view-versus-a-copy\n",
            "  \"\"\"Entry point for launching an IPython kernel.\n"
          ]
        }
      ]
    },
    {
      "cell_type": "code",
      "source": [
        "from sklearn.metrics import confusion_matrix,classification_report\n",
        "\n",
        "grunn = gnn_classifier_model\n",
        "sequences_xtest = tokenizer.texts_to_sequences(imig[\"cleaned_text\"])\n",
        "sequences_matrix_xtest = pad_sequences(sequences_xtest,maxlen=max_len)\n",
        "\n",
        "predictions_grunn = grunn.predict(sequences_matrix_xtest)\n",
        "def predict_tweet_sentiment(score):\n",
        "    return 1 if score>0.5 else 0\n",
        "model_predictions = [predict_tweet_sentiment(score) for score in predictions_grunn]\n",
        "\n",
        "print(classification_report(model_predictions,imig[\"sentiment\"]))"
      ],
      "metadata": {
        "colab": {
          "base_uri": "https://localhost:8080/"
        },
        "id": "RMwvcrPplBgn",
        "outputId": "70b7ff26-950b-40a3-b9f0-dba9bd74bd4c"
      },
      "execution_count": 114,
      "outputs": [
        {
          "output_type": "stream",
          "name": "stdout",
          "text": [
            "26/26 [==============================] - 0s 4ms/step\n",
            "              precision    recall  f1-score   support\n",
            "\n",
            "           0       0.75      0.63      0.69       556\n",
            "           1       0.39      0.52      0.45       248\n",
            "\n",
            "    accuracy                           0.60       804\n",
            "   macro avg       0.57      0.58      0.57       804\n",
            "weighted avg       0.64      0.60      0.61       804\n",
            "\n"
          ]
        }
      ]
    },
    {
      "cell_type": "code",
      "source": [
        "from sklearn.metrics import confusion_matrix\n",
        "\n",
        "cf_matrix = confusion_matrix(afghan[\"sentiment\"],model_predictions)\n",
        "cf_matrix"
      ],
      "metadata": {
        "colab": {
          "base_uri": "https://localhost:8080/"
        },
        "id": "qCMWusiVLb6M",
        "outputId": "ed9ef840-1938-40f0-e35b-9ee628ca7a04"
      },
      "execution_count": 293,
      "outputs": [
        {
          "output_type": "execute_result",
          "data": {
            "text/plain": [
              "array([[116,  45],\n",
              "       [107,  98]])"
            ]
          },
          "metadata": {},
          "execution_count": 293
        }
      ]
    },
    {
      "cell_type": "code",
      "source": [
        "ax = sns.heatmap(cf_matrix/np.sum(cf_matrix), annot=True, \n",
        "            fmt='.2%', cmap='Blues')\n",
        "\n",
        "ax.set_title('Seaborn Confusion Matrix with labels\\n\\n');\n",
        "ax.set_xlabel('\\nPredicted Values')\n",
        "ax.set_ylabel('Actual Values ');\n",
        "\n",
        "## Ticket labels - List must be in alphabetical order\n",
        "ax.xaxis.set_ticklabels(['False','True'])\n",
        "ax.yaxis.set_ticklabels(['False','True'])\n",
        "\n",
        "## Display the visualization of the Confusion Matrix.\n",
        "plt.show()"
      ],
      "metadata": {
        "colab": {
          "base_uri": "https://localhost:8080/",
          "height": 337
        },
        "id": "N4kqHN3AUX7h",
        "outputId": "0fd7d24b-75ff-4f02-aaec-80b9c3e07b45"
      },
      "execution_count": 294,
      "outputs": [
        {
          "output_type": "display_data",
          "data": {
            "text/plain": [
              "<Figure size 432x288 with 2 Axes>"
            ],
            "image/png": "[encoded data removed]"
          },
          "metadata": {
            "needs_background": "light"
          }
        }
      ]
    },
    {
      "cell_type": "code",
      "source": [
        "import seaborn as sns\n",
        "\n",
        "ax = sns.heatmap(cf_matrix, annot=True, cmap='Blues')\n",
        "\n",
        "ax.set_title('Seaborn Confusion Matrix with labels\\n\\n');\n",
        "ax.set_xlabel('\\nPredicted Values')\n",
        "ax.set_ylabel('Actual Values ');\n",
        "\n",
        "## Ticket labels - List must be in alphabetical order\n",
        "ax.xaxis.set_ticklabels(['False','True'])\n",
        "ax.yaxis.set_ticklabels(['False','True'])\n",
        "\n",
        "## Display the visualization of the Confusion Matrix.\n",
        "plt.show()"
      ],
      "metadata": {
        "id": "VWmK2NL-tDNg"
      },
      "execution_count": null,
      "outputs": []
    },
    {
      "cell_type": "code",
      "source": [
        "ax = sns.heatmap(cf_matrix/np.sum(cf_matrix), annot=True, \n",
        "            fmt='.2%', cmap='Blues')\n",
        "\n",
        "ax.set_title('Seaborn Confusion Matrix with labels\\n\\n');\n",
        "ax.set_xlabel('\\nPredicted Values')\n",
        "ax.set_ylabel('Actual Values ');\n",
        "\n",
        "## Ticket labels - List must be in alphabetical order\n",
        "ax.xaxis.set_ticklabels(['False','True'])\n",
        "ax.yaxis.set_ticklabels(['False','True'])\n",
        "\n",
        "## Display the visualization of the Confusion Matrix.\n",
        "plt.show()"
      ],
      "metadata": {
        "colab": {
          "base_uri": "https://localhost:8080/",
          "height": 337
        },
        "id": "gP2iG4kUUIFv",
        "outputId": "0a415058-cb12-422d-e672-839b4517fdd8"
      },
      "execution_count": 291,
      "outputs": [
        {
          "output_type": "display_data",
          "data": {
            "text/plain": [
              "<Figure size 432x288 with 2 Axes>"
            ],
            "image/png": "[encoded data removed]"
          },
          "metadata": {
            "needs_background": "light"
          }
        }
      ]
    },
    {
      "cell_type": "code",
      "source": [
        "afghan[[\"renderedContent\",\"clean_tweet\",\"vadar compound\",\"sentiment\",\"gr_pred\"]][afghan.sentiment==afghan.gr_pred]"
      ],
      "metadata": {
        "id": "3X6WqFweDJdk"
      },
      "execution_count": null,
      "outputs": []
    },
    {
      "cell_type": "code",
      "source": [
        "afghan[\"gr_pred\"] = model_predictions\n",
        "could_afghan_grnn = afghan[[\"renderedContent\",\"clean_tweet\",\"vadar compound\",\"sentiment\",\"gr_pred\"]][afghan.gr_pred==1] \n",
        "could_afghan_grnn[\"clean_tweet_3\"] = could_afghan_grnn[\"clean_tweet\"].apply(text_clean)"
      ],
      "metadata": {
        "id": "OGns-a0i8sBP"
      },
      "execution_count": 66,
      "outputs": []
    },
    {
      "cell_type": "code",
      "source": [
        "imig[\"gr_pred\"] = model_predictions\n",
        "imig_cloud_gr=imig[[\"text\",\"cleaned_text\",\"vadar compound\",\"sentiment\",\"gr_pred\"]][imig.gr_pred ==1] \n",
        "imig_cloud_gr[\"cleaned_text_3\"] = imig_cloud_gr[\"cleaned_text\"].apply(text_clean)"
      ],
      "metadata": {
        "id": "T5qGCeSI5EnA"
      },
      "execution_count": null,
      "outputs": []
    },
    {
      "cell_type": "code",
      "source": [
        "afghan[\"gr_pred\"] = model_predictions\n",
        "afghan[[\"renderedContent\",\"clean_tweet\",\"vadar compound\",\"sentiment\",\"gr_pred\"]][afghan.sentiment==afghan.gr_pred]"
      ],
      "metadata": {
        "id": "2_T70k4eqwYA"
      },
      "execution_count": null,
      "outputs": []
    },
    {
      "cell_type": "code",
      "source": [
        "imig[\"bert_pred\"] = y_pred\n",
        "imig[[\"text\",\"cleaned_text\",\"vadar compound\",\"sentiment\",\"bert_pred\"]][imig.sentiment ==1][imig.sentiment!=imig.bert_pred]"
      ],
      "metadata": {
        "id": "6WAizHrZVO6Q"
      },
      "execution_count": null,
      "outputs": []
    },
    {
      "cell_type": "code",
      "source": [
        "def make_wordcloud(correct):\n",
        "    comment_words=\"\"\n",
        "    for val in correct: \n",
        "        val = str(val).lower()\n",
        "\n",
        "      \n",
        "        comment_words += val\n",
        "    print(comment_words[0:100])\n",
        "    def random_color_func(word=None, font_size=None, position=None,  orientation=None, font_path=None, random_state=None):\n",
        "        h = 344\n",
        "        s = int(100.0 * 255.0 / 255.0)\n",
        "        l = int(100.0 * float(random_state.randint(60, 120)) / 255.0)\n",
        "        return \"hsl({}, {}%, {}%)\".format(h, s, l)\n",
        "\n",
        "    wordcloud = WordCloud(\n",
        "                            background_color='white',\n",
        "                            stopwords=stopwords,\n",
        "                            max_words=100,\n",
        "                            max_font_size=60, \n",
        "                            random_state=42).generate(comment_words)\n",
        "  \n",
        "    plt.figure(1)\n",
        "    plt.imshow(wordcloud.recolor(color_func= random_color_func, random_state=3),\n",
        "           interpolation=\"bilinear\")\n",
        "    plt.axis(\"off\")\n",
        "    #plt.tight_layout(pad = 0)\n",
        "\n",
        "    plt.show()"
      ],
      "metadata": {
        "id": "mYrOq6_aDHTC"
      },
      "execution_count": 107,
      "outputs": []
    },
    {
      "cell_type": "code",
      "source": [
        "make_wordcloud(imig_cloud_gr.cleaned_text)"
      ],
      "metadata": {
        "colab": {
          "base_uri": "https://localhost:8080/",
          "height": 215
        },
        "id": "gdFUfty-HWsU",
        "outputId": "5171e0f1-c278-4f20-9904-93b9e394de0e"
      },
      "execution_count": 115,
      "outputs": [
        {
          "output_type": "stream",
          "name": "stdout",
          "text": [
            "everything going ukraine wanted say rarely use phrase remember russian citizens russian immigrants s\n"
          ]
        },
        {
          "output_type": "display_data",
          "data": {
            "text/plain": [
              "<Figure size 432x288 with 1 Axes>"
            ],
            "image/png": "[encoded data removed]"
          },
          "metadata": {
            "needs_background": "light"
          }
        }
      ]
    },
    {
      "cell_type": "code",
      "source": [
        "caught = imig[[\"text\",\"cleaned_text\",\"vadar compound\",\"sentiment\",\"bert_pred\"]][imig.bert_pred ==1] \n",
        "caught"
      ],
      "metadata": {
        "id": "C4vDMN-xy3LD"
      },
      "execution_count": null,
      "outputs": []
    },
    {
      "cell_type": "code",
      "source": [
        "imig[\"bert_pred\"] = y_pred\n",
        "imig[[\"text\",\"cleaned_text\",\"vadar compound\",\"sentiment\",\"bert_pred\"]][imig.sentiment ==1][imig.sentiment==imig.bert_pred]"
      ],
      "metadata": {
        "id": "0TBEEEjqJAKH"
      },
      "execution_count": null,
      "outputs": []
    },
    {
      "cell_type": "code",
      "source": [
        "afghan[\"bert_pred\"] = y_pred\n",
        "afghan[[\"renderedContent\",\"clean_tweet\",\"vadar compound\",\"sentiment\",\"bert_pred\"]][afghan.sentiment!=afghan.bert_pred]"
      ],
      "metadata": {
        "id": "vID_9kBsQhyR"
      },
      "execution_count": null,
      "outputs": []
    },
    {
      "cell_type": "code",
      "source": [
        "model_save_name = 'overfitt.pt'\n",
        "path = \"/content/drive/MyDrive/Diss/GRUNN_epoch40_rl_drop2.h\"\n",
        "cnn_classifier_model = tf.keras.models.load_model(path,custom_objects={'AdamWeightDecay': optimizer})"
      ],
      "metadata": {
        "id": "KMM-u3zgNQv7"
      },
      "execution_count": 23,
      "outputs": []
    },
    {
      "cell_type": "code",
      "source": [
        "cnn_classifier_model.summary()"
      ],
      "metadata": {
        "colab": {
          "base_uri": "https://localhost:8080/"
        },
        "id": "RAbRbdW3F3M6",
        "outputId": "aad1e768-f9b0-4d6b-8760-c1eecf872003"
      },
      "execution_count": 20,
      "outputs": [
        {
          "output_type": "stream",
          "name": "stdout",
          "text": [
            "Model: \"model_1\"\n",
            "__________________________________________________________________________________________________\n",
            " Layer (type)                   Output Shape         Param #     Connected to                     \n",
            "==================================================================================================\n",
            " text (InputLayer)              [(None,)]            0           []                               \n",
            "                                                                                                  \n",
            " preprocessing (KerasLayer)     {'input_word_ids':   0           ['text[0][0]']                   \n",
            "                                (None, 128),                                                      \n",
            "                                 'input_type_ids':                                                \n",
            "                                (None, 128),                                                      \n",
            "                                 'input_mask': (Non                                               \n",
            "                                e, 128)}                                                          \n",
            "                                                                                                  \n",
            " BERT_encoder (KerasLayer)      {'default': (None,   28763649    ['preprocessing[0][0]',          \n",
            "                                512),                             'preprocessing[0][1]',          \n",
            "                                 'sequence_output':               'preprocessing[0][2]']          \n",
            "                                 (None, 128, 512),                                                \n",
            "                                 'pooled_output': (                                               \n",
            "                                None, 512),                                                       \n",
            "                                 'encoder_outputs':                                               \n",
            "                                 [(None, 128, 512),                                               \n",
            "                                 (None, 128, 512),                                                \n",
            "                                 (None, 128, 512),                                                \n",
            "                                 (None, 128, 512)]}                                               \n",
            "                                                                                                  \n",
            " concatenate_1 (Concatenate)    (None, 1024)         0           ['BERT_encoder[0][5]',           \n",
            "                                                                  'BERT_encoder[0][0]']           \n",
            "                                                                                                  \n",
            " tf.expand_dims_1 (TFOpLambda)  (None, 1024, 1)      0           ['concatenate_1[0][0]']          \n",
            "                                                                                                  \n",
            " dropout_4 (Dropout)            (None, 1024, 1)      0           ['tf.expand_dims_1[0][0]']       \n",
            "                                                                                                  \n",
            " conv1d_2 (Conv1D)              (None, 1023, 32)     96          ['dropout_4[0][0]']              \n",
            "                                                                                                  \n",
            " conv1d_3 (Conv1D)              (None, 1022, 64)     4160        ['conv1d_2[0][0]']               \n",
            "                                                                                                  \n",
            " dropout_5 (Dropout)            (None, 1022, 64)     0           ['conv1d_3[0][0]']               \n",
            "                                                                                                  \n",
            " global_max_pooling1d_1 (Global  (None, 64)          0           ['dropout_5[0][0]']              \n",
            " MaxPooling1D)                                                                                    \n",
            "                                                                                                  \n",
            " dense_1 (Dense)                (None, 128)          8320        ['global_max_pooling1d_1[0][0]'] \n",
            "                                                                                                  \n",
            " dropout_6 (Dropout)            (None, 128)          0           ['dense_1[0][0]']                \n",
            "                                                                                                  \n",
            " classifier (Dense)             (None, 2)            258         ['dropout_6[0][0]']              \n",
            "                                                                                                  \n",
            "==================================================================================================\n",
            "Total params: 28,776,483\n",
            "Trainable params: 28,776,482\n",
            "Non-trainable params: 1\n",
            "__________________________________________________________________________________________________\n"
          ]
        }
      ]
    },
    {
      "cell_type": "code",
      "source": [
        "tf.keras.utils.plot_model(cnn_classifier_model)"
      ],
      "metadata": {
        "colab": {
          "base_uri": "https://localhost:8080/",
          "height": 856
        },
        "id": "QfGOhHuvFDRd",
        "outputId": "4e0a75e4-e5e8-47c2-f1cd-5dba75e4f728"
      },
      "execution_count": 24,
      "outputs": [
        {
          "output_type": "execute_result",
          "data": {
            "image/png": "[encoded data removed]",
            "text/plain": [
              "<IPython.core.display.Image object>"
            ]
          },
          "metadata": {},
          "execution_count": 24
        }
      ]
    },
    {
      "cell_type": "code",
      "execution_count": 33,
      "metadata": {
        "colab": {
          "base_uri": "https://localhost:8080/"
        },
        "id": "ZrvTRD4-_HMu",
        "outputId": "925f32f8-c06f-422e-9c1d-d1614b27ba78"
      },
      "outputs": [
        {
          "output_type": "stream",
          "name": "stdout",
          "text": [
            "24/24 [==============================] - 3s 88ms/step\n",
            "[[9.9845326e-01 1.5466735e-03]\n",
            " [9.9982029e-01 1.7968449e-04]\n",
            " [9.9967408e-01 3.2589131e-04]\n",
            " ...\n",
            " [3.0824915e-02 9.6917510e-01]\n",
            " [9.9988246e-01 1.1750277e-04]\n",
            " [9.9988413e-01 1.1591603e-04]]\n",
            "1/1 [==============================] - 1s 917ms/step\n",
            "1/1 [==============================] - 0s 76ms/step\n",
            "1/1 [==============================] - 0s 71ms/step\n",
            "1/1 [==============================] - 0s 70ms/step\n",
            "1/1 [==============================] - 0s 73ms/step\n",
            "1/1 [==============================] - 0s 80ms/step\n",
            "1/1 [==============================] - 0s 83ms/step\n",
            "1/1 [==============================] - 0s 78ms/step\n",
            "1/1 [==============================] - 0s 82ms/step\n",
            "1/1 [==============================] - 0s 76ms/step\n",
            "1/1 [==============================] - 0s 93ms/step\n",
            "1/1 [==============================] - 0s 79ms/step\n",
            "1/1 [==============================] - 0s 77ms/step\n",
            "1/1 [==============================] - 0s 84ms/step\n",
            "1/1 [==============================] - 0s 77ms/step\n",
            "1/1 [==============================] - 0s 77ms/step\n",
            "1/1 [==============================] - 0s 84ms/step\n",
            "1/1 [==============================] - 0s 81ms/step\n",
            "1/1 [==============================] - 0s 83ms/step\n",
            "1/1 [==============================] - 0s 76ms/step\n",
            "1/1 [==============================] - 0s 82ms/step\n",
            "1/1 [==============================] - 0s 91ms/step\n",
            "1/1 [==============================] - 0s 69ms/step\n",
            "1/1 [==============================] - 1s 779ms/step\n"
          ]
        }
      ],
      "source": [
        "from itertools import chain\n",
        "result =  cnn_classifier_model.predict(imig_test)\n",
        "print(result)\n",
        "tweet = []\n",
        "test_labels = []\n",
        "predictions = []\n",
        "for tweet, labels in imig_test.take(-1):\n",
        "  tweet = tweet.numpy()\n",
        "  test_labels.append(labels.numpy())\n",
        "  predictions.append(cnn_classifier_model.predict(tweet))\n",
        "\n",
        "\n",
        "flatten_list = list(chain.from_iterable(predictions))\n",
        "y_pred = np.argmax(flatten_list, axis=-1)\n",
        "type(y_pred)\n",
        "y_test = np.array(list(chain.from_iterable(test_labels)))"
      ]
    },
    {
      "cell_type": "code",
      "source": [
        "from sklearn.metrics import confusion_matrix,classification_report\n",
        "print(classification_report(y_test,y_pred))"
      ],
      "metadata": {
        "colab": {
          "base_uri": "https://localhost:8080/"
        },
        "id": "58vWZWx5_v7I",
        "outputId": "a7afd0ef-dab7-4556-bfa8-56082e54d88f"
      },
      "execution_count": 34,
      "outputs": [
        {
          "output_type": "stream",
          "name": "stdout",
          "text": [
            "              precision    recall  f1-score   support\n",
            "\n",
            "           0       0.71      0.88      0.78       519\n",
            "           1       0.44      0.20      0.27       239\n",
            "\n",
            "    accuracy                           0.67       758\n",
            "   macro avg       0.57      0.54      0.53       758\n",
            "weighted avg       0.62      0.67      0.62       758\n",
            "\n"
          ]
        }
      ]
    },
    {
      "cell_type": "code",
      "execution_count": null,
      "metadata": {
        "id": "krwkgIGS8tjA"
      },
      "outputs": [],
      "source": [
        "cnn_classifier_model.evaluate(imig_test)"
      ]
    },
    {
      "cell_type": "code",
      "source": [
        "from sklearn.metrics import confusion_matrix,classification_report\n",
        "print(classification_report(y_test,y_pred)) "
      ],
      "metadata": {
        "id": "S2xtCr9-_uzH",
        "colab": {
          "base_uri": "https://localhost:8080/"
        },
        "outputId": "b591d52c-6c0c-436e-d411-23b31dd8053b"
      },
      "execution_count": 343,
      "outputs": [
        {
          "output_type": "stream",
          "name": "stdout",
          "text": [
            "              precision    recall  f1-score   support\n",
            "\n",
            "           0       0.67      0.59      0.63       471\n",
            "           1       0.50      0.58      0.54       333\n",
            "\n",
            "    accuracy                           0.59       804\n",
            "   macro avg       0.58      0.59      0.58       804\n",
            "weighted avg       0.60      0.59      0.59       804\n",
            "\n"
          ]
        }
      ]
    },
    {
      "cell_type": "code",
      "source": [
        "from sklearn.metrics import confusion_matrix,classification_report\n",
        "print(classification_report(y_test,y_pred)) "
      ],
      "metadata": {
        "colab": {
          "base_uri": "https://localhost:8080/"
        },
        "id": "tCE5-BAJ7HRc",
        "outputId": "410de600-7653-4cf3-fcee-1ff99f8a59b4"
      },
      "execution_count": 347,
      "outputs": [
        {
          "output_type": "stream",
          "name": "stdout",
          "text": [
            "              precision    recall  f1-score   support\n",
            "\n",
            "           0       0.67      0.59      0.63       471\n",
            "           1       0.50      0.58      0.54       333\n",
            "\n",
            "    accuracy                           0.59       804\n",
            "   macro avg       0.58      0.59      0.58       804\n",
            "weighted avg       0.60      0.59      0.59       804\n",
            "\n"
          ]
        }
      ]
    },
    {
      "cell_type": "code",
      "source": [
        "from sklearn.metrics import confusion_matrix,classification_report\n",
        "print(classification_report(y_test,y_pred))"
      ],
      "metadata": {
        "id": "yWYuopgk686c"
      },
      "execution_count": null,
      "outputs": []
    },
    {
      "cell_type": "code",
      "source": [
        "from sklearn.metrics import confusion_matrix,classification_report\n",
        "print(classification_report(y_test,y_pred))"
      ],
      "metadata": {
        "colab": {
          "base_uri": "https://localhost:8080/"
        },
        "id": "k-CJiDKQ4cI5",
        "outputId": "94702399-7387-478d-a517-355656cc346b"
      },
      "execution_count": null,
      "outputs": [
        {
          "output_type": "stream",
          "name": "stdout",
          "text": [
            "              precision    recall  f1-score   support\n",
            "\n",
            "           0       0.49      0.81      0.61       121\n",
            "           1       0.57      0.23      0.33       132\n",
            "\n",
            "    accuracy                           0.51       253\n",
            "   macro avg       0.53      0.52      0.47       253\n",
            "weighted avg       0.54      0.51      0.47       253\n",
            "\n"
          ]
        }
      ]
    },
    {
      "cell_type": "code",
      "source": [
        "from sklearn.metrics import confusion_matrix,classification_report\n",
        "print(classification_report(y_test,y_pred)) "
      ],
      "metadata": {
        "colab": {
          "base_uri": "https://localhost:8080/"
        },
        "id": "IVeDHXN3l8CO",
        "outputId": "34e48b36-59be-47bf-990a-699bbf5bc27d"
      },
      "execution_count": null,
      "outputs": [
        {
          "output_type": "stream",
          "name": "stdout",
          "text": [
            "              precision    recall  f1-score   support\n",
            "\n",
            "           0       0.71      0.89      0.79        92\n",
            "           1       0.55      0.27      0.36        45\n",
            "\n",
            "    accuracy                           0.69       137\n",
            "   macro avg       0.63      0.58      0.58       137\n",
            "weighted avg       0.66      0.69      0.65       137\n",
            "\n"
          ]
        }
      ]
    },
    {
      "cell_type": "code",
      "execution_count": null,
      "metadata": {
        "id": "2MG5d5SnkW02",
        "colab": {
          "base_uri": "https://localhost:8080/"
        },
        "outputId": "021fb488-fd37-4773-bd01-0e70b24767ee"
      },
      "outputs": [
        {
          "output_type": "stream",
          "name": "stdout",
          "text": [
            "              precision    recall  f1-score   support\n",
            "\n",
            "           0       0.92      0.95      0.94      8391\n",
            "           1       0.93      0.89      0.91      6290\n",
            "\n",
            "    accuracy                           0.93     14681\n",
            "   macro avg       0.93      0.92      0.92     14681\n",
            "weighted avg       0.93      0.93      0.93     14681\n",
            "\n"
          ]
        }
      ],
      "source": [
        "from sklearn.metrics import confusion_matrix,classification_report\n",
        "print(classification_report(y_test,y_pred))"
      ]
    },
    {
      "cell_type": "code",
      "execution_count": 344,
      "metadata": {
        "id": "91rp3odK__uI",
        "colab": {
          "base_uri": "https://localhost:8080/"
        },
        "outputId": "4faebdbb-146a-47fe-c08e-62bf9dbba742"
      },
      "outputs": [
        {
          "output_type": "execute_result",
          "data": {
            "text/plain": [
              "array([[278, 193],\n",
              "       [139, 194]])"
            ]
          },
          "metadata": {},
          "execution_count": 344
        }
      ],
      "source": [
        "from sklearn.metrics import confusion_matrix\n",
        "\n",
        "cf_matrix = confusion_matrix(y_test, y_pred)\n",
        "cf_matrix"
      ]
    },
    {
      "cell_type": "code",
      "source": [
        "ax = sns.heatmap(cf_matrix/np.sum(cf_matrix), annot=True, \n",
        "            fmt='.2%', cmap='Blues')\n",
        "\n",
        "ax.set_title('Seaborn Confusion Matrix with labels\\n\\n');\n",
        "ax.set_xlabel('\\nPredicted Values')\n",
        "ax.set_ylabel('Actual Values ');\n",
        "\n",
        "## Ticket labels - List must be in alphabetical order\n",
        "ax.xaxis.set_ticklabels(['False','True'])\n",
        "ax.yaxis.set_ticklabels(['False','True'])\n",
        "\n",
        "## Display the visualization of the Confusion Matrix.\n",
        "plt.show()"
      ],
      "metadata": {
        "colab": {
          "base_uri": "https://localhost:8080/",
          "height": 337
        },
        "id": "qoC1yGYv3R4c",
        "outputId": "ed0768ab-7745-44c5-b320-9f9bbd1d9afb"
      },
      "execution_count": 333,
      "outputs": [
        {
          "output_type": "display_data",
          "data": {
            "text/plain": [
              "<Figure size 432x288 with 2 Axes>"
            ],
            "image/png": "[encoded data removed]"
          },
          "metadata": {
            "needs_background": "light"
          }
        }
      ]
    },
    {
      "cell_type": "code",
      "source": [
        "ax = sns.heatmap(cf_matrix/np.sum(cf_matrix), annot=True, \n",
        "            fmt='.2%', cmap='Blues')\n",
        "\n",
        "ax.set_title('Seaborn Confusion Matrix with labels\\n\\n');\n",
        "ax.set_xlabel('\\nPredicted Values')\n",
        "ax.set_ylabel('Actual Values ');\n",
        "\n",
        "## Ticket labels - List must be in alphabetical order\n",
        "ax.xaxis.set_ticklabels(['False','True'])\n",
        "ax.yaxis.set_ticklabels(['False','True'])\n",
        "\n",
        "## Display the visualization of the Confusion Matrix.\n",
        "plt.show()"
      ],
      "metadata": {
        "colab": {
          "base_uri": "https://localhost:8080/",
          "height": 337
        },
        "id": "JHLxKsXB40Cb",
        "outputId": "4d7a4972-e825-414a-9458-bceddcfc3fea"
      },
      "execution_count": 94,
      "outputs": [
        {
          "output_type": "display_data",
          "data": {
            "text/plain": [
              "<Figure size 432x288 with 2 Axes>"
            ],
            "image/png": "[encoded data removed]"
          },
          "metadata": {
            "needs_background": "light"
          }
        }
      ]
    },
    {
      "cell_type": "code",
      "execution_count": null,
      "metadata": {
        "id": "qtYekzzZkwp8",
        "colab": {
          "base_uri": "https://localhost:8080/",
          "height": 337
        },
        "outputId": "f8b0fccc-d398-4e10-8862-d5af79cf6712"
      },
      "outputs": [
        {
          "output_type": "display_data",
          "data": {
            "text/plain": [
              "<Figure size 432x288 with 2 Axes>"
            ],
            "image/png": "[encoded data removed]"
          },
          "metadata": {
            "needs_background": "light"
          }
        }
      ],
      "source": [
        "ax = sns.heatmap(cf_matrix/np.sum(cf_matrix), annot=True, \n",
        "            fmt='.2%', cmap='Blues')\n",
        "\n",
        "ax.set_title('Seaborn Confusion Matrix with labels\\n\\n');\n",
        "ax.set_xlabel('\\nPredicted Values')\n",
        "ax.set_ylabel('Actual Values ');\n",
        "\n",
        "## Ticket labels - List must be in alphabetical order\n",
        "ax.xaxis.set_ticklabels(['False','True'])\n",
        "ax.yaxis.set_ticklabels(['False','True'])\n",
        "\n",
        "## Display the visualization of the Confusion Matrix.\n",
        "plt.show()"
      ]
    },
    {
      "cell_type": "code",
      "execution_count": null,
      "metadata": {
        "id": "SNTrxDh_p2Dk"
      },
      "outputs": [],
      "source": [
        "import pickle\n",
        "filename = 'finalized_model.sav'\n",
        "from sklearn.feature_extraction.text import TfidfVectorizer\n",
        "\n",
        "# load the model from disk\n",
        "loaded_model = pickle.load(open(filename, 'rb'))\n",
        "Tfidf_vect = TfidfVectorizer(max_features=5000)\n",
        "Tfidf_vect.fit(x)\n",
        "Train_X_Tfidf = Tfidf_vect.transform(x_train)\n",
        "Test_X_Tfidf = Tfidf_vect.transform(imig[\"cleaned_text\"])\n",
        "y_predict = loaded_model.predict(Test_X_Tfidf)\n",
        "\n",
        "\n",
        "cf_matrix=confusion_matrix(imig[\"sentiment\"], y_predict)\n"
      ]
    },
    {
      "cell_type": "code",
      "execution_count": null,
      "metadata": {
        "id": "AOzV2RU1sCpq",
        "colab": {
          "base_uri": "https://localhost:8080/",
          "height": 337
        },
        "outputId": "ad968604-a5da-4760-badf-0a523b73152c"
      },
      "outputs": [
        {
          "output_type": "display_data",
          "data": {
            "text/plain": [
              "<Figure size 432x288 with 2 Axes>"
            ],
            "image/png": "[encoded data removed]"
          },
          "metadata": {
            "needs_background": "light"
          }
        }
      ],
      "source": [
        "ax = sns.heatmap(cf_matrix/np.sum(cf_matrix), annot=True, \n",
        "            fmt='.2%', cmap='Blues')\n",
        "\n",
        "ax.set_title('Seaborn Confusion Matrix with labels\\n\\n');\n",
        "ax.set_xlabel('\\nPredicted Values')\n",
        "ax.set_ylabel('Actual Values ');\n",
        "\n",
        "## Ticket labels - List must be in alphabetical order\n",
        "ax.xaxis.set_ticklabels(['False','True'])\n",
        "ax.yaxis.set_ticklabels(['False','True'])\n",
        "\n",
        "## Display the visualization of the Confusion Matrix.\n",
        "plt.show()"
      ]
    },
    {
      "cell_type": "code",
      "execution_count": null,
      "metadata": {
        "id": "gs6nt0GmPwZP"
      },
      "outputs": [],
      "source": [
        "Tfidf_vect = TfidfVectorizer(max_features=5000)\n",
        "Tfidf_vect.fit(x)\n",
        "Train_X_Tfidf = Tfidf_vect.transform(x_train)\n",
        "Test_X_Tfidf = Tfidf_vect.transform(x_test)"
      ]
    },
    {
      "cell_type": "code",
      "execution_count": 32,
      "metadata": {
        "id": "LqXyxQqvSdkk",
        "colab": {
          "base_uri": "https://localhost:8080/"
        },
        "outputId": "6d138df4-d6d8-41f6-bcdd-36917bac0c68"
      },
      "outputs": [
        {
          "output_type": "stream",
          "name": "stderr",
          "text": [
            "[nltk_data] Downloading package vader_lexicon to /root/nltk_data...\n",
            "[nltk_data]   Package vader_lexicon is already up-to-date!\n"
          ]
        }
      ],
      "source": [
        "import nltk\n",
        "nltk.download('vader_lexicon')\n",
        "from nltk.sentiment.vader import SentimentIntensityAnalyzer\n",
        "sent_i = SentimentIntensityAnalyzer()\n",
        "\n",
        "def vadar_sentiment(text):\n",
        "    \"\"\" Calculate and return the nltk vadar (lexicon method) sentiment \"\"\"\n",
        "    return sent_i.polarity_scores(text)['compound']\n",
        "\n",
        "# create new column for vadar compound sentiment score\n",
        "afghan['vadar compound'] = afghan['clean_tweet'].apply(vadar_sentiment)\n",
        "\n",
        "def categorise_sentiment(sentiment, neg_threshold=-0.05, pos_threshold=0.05):\n",
        "    \"\"\" categorise the sentiment value as positive (1), negative (-1) \n",
        "        or neutral (0) based on given thresholds \"\"\"\n",
        "    if sentiment < neg_threshold:\n",
        "        label = 'negative'\n",
        "    elif sentiment > pos_threshold:\n",
        "        label = 'positive'\n",
        "    else:\n",
        "        label = 'neutral'\n",
        "    return label\n",
        "\n",
        "# new col with vadar sentiment label based on vadar compound score\n",
        "afghan['vadar sentiment'] = afghan['vadar compound'].apply(categorise_sentiment)\n",
        "\n",
        "# # plot distribution of article sentiments for each newspaper\n",
        "# plt.figure(figsize=(8,8))\n",
        "# sns.countplot(x='cleaned', data=afghan, hue='vadar sentiment')\n",
        "# plt.title('VADAR Sentiment Analysis', weight='bold')\n",
        "# plt.ylabel('Number of Articles', fontsize=10, weight='bold')\n",
        "# plt.xlabel('VADAR Sentiment', fontsize=10, weight='bold')\n",
        "# plt.legend(bbox_to_anchor=(1.02, 1.0), loc=2, borderaxespad=0.0)\n",
        "# plt.show() "
      ]
    },
    {
      "cell_type": "code",
      "source": [
        "import nltk\n",
        "nltk.download('vader_lexicon')\n",
        "from nltk.sentiment.vader import SentimentIntensityAnalyzer\n",
        "sent_i = SentimentIntensityAnalyzer()\n",
        "\n",
        "def vadar_sentiment(text):\n",
        "    \"\"\" Calculate and return the nltk vadar (lexicon method) sentiment \"\"\"\n",
        "    return sent_i.polarity_scores(text)['compound']\n",
        "\n",
        "# create new column for vadar compound sentiment score\n",
        "imig['vadar compound'] = imig['cleaned_text'].apply(vadar_sentiment)\n",
        "\n",
        "def categorise_sentiment(sentiment, neg_threshold=-0.5, pos_threshold=0.05):\n",
        "    \"\"\" categorise the sentiment value as positive (1), negative (-1) \n",
        "        or neutral (0) based on given thresholds \"\"\"\n",
        "    if sentiment < neg_threshold:\n",
        "        label = 'negative'\n",
        "    elif sentiment > pos_threshold:\n",
        "        label = 'positive'\n",
        "    else:\n",
        "        label = 'neutral'\n",
        "    return label\n",
        "\n",
        "# new col with vadar sentiment label based on vadar compound score\n",
        "imig['vadar sentiment'] = imig['vadar compound'].apply(categorise_sentiment)\n",
        "\n",
        "# # plot distribution of article sentiments for each newspaper\n",
        "# plt.figure(figsize=(8,8))\n",
        "# sns.countplot(x='cleaned', data=afghan, hue='vadar sentiment')\n",
        "# plt.title('VADAR Sentiment Analysis', weight='bold')\n",
        "# plt.ylabel('Number of Articles', fontsize=10, weight='bold')\n",
        "# plt.xlabel('VADAR Sentiment', fontsize=10, weight='bold')\n",
        "# plt.legend(bbox_to_anchor=(1.02, 1.0), loc=2, borderaxespad=0.0)\n",
        "# plt.show()"
      ],
      "metadata": {
        "colab": {
          "base_uri": "https://localhost:8080/"
        },
        "id": "nJ92LqwRbdsR",
        "outputId": "61ed3365-b110-4476-d01c-885a85ea95e3"
      },
      "execution_count": 13,
      "outputs": [
        {
          "output_type": "stream",
          "name": "stderr",
          "text": [
            "[nltk_data] Downloading package vader_lexicon to /root/nltk_data...\n",
            "/usr/local/lib/python3.7/dist-packages/ipykernel_launcher.py:11: SettingWithCopyWarning: \n",
            "A value is trying to be set on a copy of a slice from a DataFrame.\n",
            "Try using .loc[row_indexer,col_indexer] = value instead\n",
            "\n",
            "See the caveats in the documentation: https://pandas.pydata.org/pandas-docs/stable/user_guide/indexing.html#returning-a-view-versus-a-copy\n",
            "  # This is added back by InteractiveShellApp.init_path()\n",
            "/usr/local/lib/python3.7/dist-packages/ipykernel_launcher.py:25: SettingWithCopyWarning: \n",
            "A value is trying to be set on a copy of a slice from a DataFrame.\n",
            "Try using .loc[row_indexer,col_indexer] = value instead\n",
            "\n",
            "See the caveats in the documentation: https://pandas.pydata.org/pandas-docs/stable/user_guide/indexing.html#returning-a-view-versus-a-copy\n"
          ]
        }
      ]
    },
    {
      "cell_type": "code",
      "execution_count": null,
      "metadata": {
        "id": "CeKhhc1oSNJ7"
      },
      "outputs": [],
      "source": []
    },
    {
      "cell_type": "code",
      "execution_count": 327,
      "metadata": {
        "id": "-1oENbYDafRV",
        "colab": {
          "base_uri": "https://localhost:8080/"
        },
        "outputId": "00a76c19-e428-4c8d-a3a7-8816fd3846f3"
      },
      "outputs": [
        {
          "output_type": "stream",
          "name": "stdout",
          "text": [
            "Total Positive Tweets % : 35.36\n",
            "Total Negative Tweets % : 39.71\n",
            "Total Neutral Tweets % : 24.92\n"
          ]
        }
      ],
      "source": [
        "total_pos=len(imig.loc[imig['vadar sentiment'] == \"positive\"])\n",
        "total_neg=len(imig.loc[imig['vadar sentiment'] == \"negative\"])\n",
        "total_neu=len(imig.loc[imig['vadar sentiment'] == \"neutral\"])\n",
        "total_tweets=len(imig)\n",
        "print(\"Total Positive Tweets % : {:.2f}\".format( (total_pos/total_tweets)*100))\n",
        "print(\"Total Negative Tweets % : {:.2f}\".format((total_neg/total_tweets)*100))\n",
        "print(\"Total Neutral Tweets % : {:.2f}\".format((total_neu/total_tweets)*100))"
      ]
    },
    {
      "cell_type": "code",
      "source": [
        "total_pos=len(imig.loc[imig['vadar sentiment'] == \"positive\"])\n",
        "total_neg=len(imig.loc[imig['vadar sentiment'] == \"negative\"])\n",
        "total_neu=len(imig.loc[imig['vadar sentiment'] == \"neutral\"])\n",
        "total_tweets=len(imig)\n",
        "print(\"Total Positive Tweets % : {:.2f}\".format( (total_pos/total_tweets)*100))\n",
        "print(\"Total Negative Tweets % : {:.2f}\".format((total_neg/total_tweets)*100))\n",
        "print(\"Total Neutral Tweets % : {:.2f}\".format((total_neu/total_tweets)*100))"
      ],
      "metadata": {
        "colab": {
          "base_uri": "https://localhost:8080/"
        },
        "id": "gPz9JuxH1CPP",
        "outputId": "6377f1eb-3f7c-42cd-8b56-eb104380595d"
      },
      "execution_count": 15,
      "outputs": [
        {
          "output_type": "stream",
          "name": "stdout",
          "text": [
            "Total Positive Tweets % : 35.36\n",
            "Total Negative Tweets % : 25.00\n",
            "Total Neutral Tweets % : 39.64\n"
          ]
        }
      ]
    },
    {
      "cell_type": "code",
      "execution_count": 33,
      "metadata": {
        "id": "ghWGTQGIzPst",
        "colab": {
          "base_uri": "https://localhost:8080/"
        },
        "outputId": "06f03348-d09c-4716-fc63-9bf0fe9a878c"
      },
      "outputs": [
        {
          "output_type": "stream",
          "name": "stdout",
          "text": [
            "Total Positive Tweets % : 28.69\n",
            "Total Negative Tweets % : 56.01\n",
            "Total Neutral Tweets % : 15.30\n"
          ]
        }
      ],
      "source": [
        "total_pos=len(afghan.loc[afghan['vadar sentiment'] == \"positive\"])\n",
        "total_neg=len(afghan.loc[afghan['vadar sentiment'] == \"negative\"])\n",
        "total_neu=len(afghan.loc[afghan['vadar sentiment'] == \"neutral\"])\n",
        "total_tweets=len(afghan)\n",
        "print(\"Total Positive Tweets % : {:.2f}\".format( (total_pos/total_tweets)*100))\n",
        "print(\"Total Negative Tweets % : {:.2f}\".format((total_neg/total_tweets)*100))\n",
        "print(\"Total Neutral Tweets % : {:.2f}\".format((total_neu/total_tweets)*100))"
      ]
    },
    {
      "cell_type": "code",
      "execution_count": 194,
      "metadata": {
        "id": "psG_JqOQGo00",
        "colab": {
          "base_uri": "https://localhost:8080/"
        },
        "outputId": "622695fc-5954-4362-83b9-1ba13032f139"
      },
      "outputs": [
        {
          "output_type": "stream",
          "name": "stdout",
          "text": [
            "Total Positive Tweets % : 28.69\n",
            "Total Negative Tweets % : 36.34\n",
            "Total Neutral Tweets % : 34.97\n"
          ]
        }
      ],
      "source": [
        "total_pos=len(afghan.loc[afghan['vadar sentiment'] == \"positive\"])\n",
        "total_neg=len(afghan.loc[afghan['vadar sentiment'] == \"negative\"])\n",
        "total_neu=len(afghan.loc[afghan['vadar sentiment'] == \"neutral\"])\n",
        "total_tweets=len(afghan) \n",
        "print(\"Total Positive Tweets % : {:.2f}\".format( (total_pos/total_tweets)*100))\n",
        "print(\"Total Negative Tweets % : {:.2f}\".format((total_neg/total_tweets)*100))\n",
        "print(\"Total Neutral Tweets % : {:.2f}\".format((total_neu/total_tweets)*100))"
      ]
    },
    {
      "cell_type": "code",
      "source": [
        "total_pos=len(afghan.loc[afghan['vadar sentiment'] == \"positive\"])\n",
        "total_neg=len(afghan.loc[afghan['vadar sentiment'] == \"negative\"])\n",
        "total_neu=len(afghan.loc[afghan['vadar sentiment'] == \"neutral\"])\n",
        "total_tweets=len(afghan) \n",
        "print(\"Total Positive Tweets % : {:.2f}\".format( (total_pos/total_tweets)*100))\n",
        "print(\"Total Negative Tweets % : {:.2f}\".format((total_neg/total_tweets)*100))\n",
        "print(\"Total Neutral Tweets % : {:.2f}\".format((total_neu/total_tweets)*100))"
      ],
      "metadata": {
        "colab": {
          "base_uri": "https://localhost:8080/"
        },
        "id": "OodUqXw_PZpT",
        "outputId": "455bfd05-0a93-41cb-b65c-8a3f6a94ac29"
      },
      "execution_count": null,
      "outputs": [
        {
          "output_type": "stream",
          "name": "stdout",
          "text": [
            "Total Positive Tweets % : 28.69\n",
            "Total Negative Tweets % : 56.01\n",
            "Total Neutral Tweets % : 15.30\n"
          ]
        }
      ]
    },
    {
      "cell_type": "code",
      "source": [
        "imig.drop(imig[imig[\"vadar sentiment\"] == \"neutral\"].index, inplace=True)\n"
      ],
      "metadata": {
        "colab": {
          "base_uri": "https://localhost:8080/"
        },
        "id": "o86MBxXZYn7v",
        "outputId": "bf8c5466-a525-4724-e0c8-4811c37a87de"
      },
      "execution_count": 14,
      "outputs": [
        {
          "output_type": "stream",
          "name": "stderr",
          "text": [
            "/usr/local/lib/python3.7/dist-packages/pandas/core/frame.py:4913: SettingWithCopyWarning: \n",
            "A value is trying to be set on a copy of a slice from a DataFrame\n",
            "\n",
            "See the caveats in the documentation: https://pandas.pydata.org/pandas-docs/stable/user_guide/indexing.html#returning-a-view-versus-a-copy\n",
            "  errors=errors,\n"
          ]
        }
      ]
    },
    {
      "cell_type": "code",
      "execution_count": 15,
      "metadata": {
        "id": "YxDXfj_Udas6",
        "colab": {
          "base_uri": "https://localhost:8080/"
        },
        "outputId": "140a234b-9787-4bc2-a560-40055194fd0c"
      },
      "outputs": [
        {
          "output_type": "stream",
          "name": "stderr",
          "text": [
            "/usr/local/lib/python3.7/dist-packages/ipykernel_launcher.py:1: SettingWithCopyWarning: \n",
            "A value is trying to be set on a copy of a slice from a DataFrame.\n",
            "Try using .loc[row_indexer,col_indexer] = value instead\n",
            "\n",
            "See the caveats in the documentation: https://pandas.pydata.org/pandas-docs/stable/user_guide/indexing.html#returning-a-view-versus-a-copy\n",
            "  \"\"\"Entry point for launching an IPython kernel.\n",
            "/usr/local/lib/python3.7/dist-packages/pandas/core/generic.py:6619: SettingWithCopyWarning: \n",
            "A value is trying to be set on a copy of a slice from a DataFrame\n",
            "\n",
            "See the caveats in the documentation: https://pandas.pydata.org/pandas-docs/stable/user_guide/indexing.html#returning-a-view-versus-a-copy\n",
            "  return self._update_inplace(result)\n"
          ]
        }
      ],
      "source": [
        "imig[\"sentiment\"] = imig[\"vadar sentiment\"]\n",
        "imig[\"sentiment\"].replace({\"positive\": 0}, inplace=True)\n",
        "#imig[\"sentiment\"].replace({\"neutral\": 0}, inplace=True)\n",
        "imig[\"sentiment\"].replace({\"negative\": 1}, inplace=True)\n"
      ]
    },
    {
      "cell_type": "code",
      "execution_count": 39,
      "metadata": {
        "id": "tRbXsbuO7wfQ"
      },
      "outputs": [],
      "source": [
        "afghan[\"sentiment\"] = afghan[\"vadar sentiment\"]\n",
        "afghan[\"sentiment\"].replace({\"positive\": 0}, inplace=True)\n",
        "#afghan[\"sentiment\"].replace({\"neutral\": 0}, inplace=True)\n",
        "afghan[\"sentiment\"].replace({\"negative\": 1}, inplace=True)\n"
      ]
    },
    {
      "cell_type": "code",
      "execution_count": null,
      "metadata": {
        "id": "-dsYjxACjOax",
        "colab": {
          "base_uri": "https://localhost:8080/"
        },
        "outputId": "b152a5eb-df0c-4cd1-c987-4543f4f2d17e"
      },
      "outputs": [
        {
          "output_type": "execute_result",
          "data": {
            "text/plain": [
              "162      bring immigrants afghanistan across southern b...\n",
              "206      well boris currently spending billions afghani...\n",
              "339      haven yet please see resource page website ong...\n",
              "508      guy country wouldn fucked now gas wouldn cost ...\n",
              "1575     afghanistan immigrants nothing entire welfare ...\n",
              "                               ...                        \n",
              "86566    one arizona sheriff sees many similarities imm...\n",
              "86988    latest ircc figures afghanistan evacuees arriv...\n",
              "87023    admitted evacuees afghanistan including citize...\n",
              "87084    many american jobs will illegal immigrants afg...\n",
              "87389    plan fight delta variant open borders flood mo...\n",
              "Name: clean_tweet, Length: 253, dtype: object"
            ]
          },
          "metadata": {},
          "execution_count": 123
        }
      ],
      "source": [
        "afghan[\"clean_tweet\"]"
      ]
    },
    {
      "cell_type": "code",
      "source": [
        "imig_subset = imig.sample(n=270)"
      ],
      "metadata": {
        "id": "hmhquJV25DM0"
      },
      "execution_count": 88,
      "outputs": []
    },
    {
      "cell_type": "code",
      "source": [
        "imig "
      ],
      "metadata": {
        "colab": {
          "base_uri": "https://localhost:8080/",
          "height": 537
        },
        "id": "oRS2ILUhrMUE",
        "outputId": "b2946f15-034b-483a-8fa5-210af7d8508c"
      },
      "execution_count": 255,
      "outputs": [
        {
          "output_type": "execute_result",
          "data": {
            "text/plain": [
              "                                                   text  \\\n",
              "0     Fu-Gee-La.\\nOh, so NOW we all love refugees!!\\...   \n",
              "1     Putin's War on #Ukraine amplifies the need for...   \n",
              "5     With everything that's going on #Ukraine. I wa...   \n",
              "8     African immigrants in Ukraine tell Sidner they...   \n",
              "12    We are offering specialist #probono advice to ...   \n",
              "...                                                 ...   \n",
              "6131  Shame I'm blocked by   @SuellaBraverman  - How...   \n",
              "6132  On #bbcqt \\n\\n@SuellaBraverman “I am very disa...   \n",
              "6139  Suella braverman and priti patel both come fro...   \n",
              "6146  #bbcqt @SuellaBraverman you have no shame. Cal...   \n",
              "6154  Desperation oozing from every pore of Suella B...   \n",
              "\n",
              "                                           cleaned_text  vadar compound  \\\n",
              "0     gee now love refugees love seeing ukrainian re...          0.8807   \n",
              "1     putin war ukraine amplifies need scotland beco...          0.3400   \n",
              "5     everything going ukraine wanted say rarely use...          0.0772   \n",
              "8     african immigrants ukraine tell sidner pushed ...         -0.7269   \n",
              "12    offering specialist probono advice ukrainian n...          0.5106   \n",
              "...                                                 ...             ...   \n",
              "6131  shame blocked people fleeing bombed war zone a...         -0.7269   \n",
              "6132  bbcqt disappointed suggestion theres kind inhu...          0.0772   \n",
              "6139  suella braverman priti patel come parents asia...         -0.5423   \n",
              "6146  bbcqt shame call daughter immigrant support ho...         -0.8126   \n",
              "6154  desperation oozing every pore suella braverman...         -0.6597   \n",
              "\n",
              "     vadar sentiment  sentiment  bert_pred  \n",
              "0           positive          0          1  \n",
              "1           positive          0          0  \n",
              "5           positive          0          1  \n",
              "8           negative          1          1  \n",
              "12          positive          0          1  \n",
              "...              ...        ...        ...  \n",
              "6131        negative          1          1  \n",
              "6132        positive          0          0  \n",
              "6139        negative          1          0  \n",
              "6146        negative          1          0  \n",
              "6154        negative          1          0  \n",
              "\n",
              "[804 rows x 6 columns]"
            ],
            "text/html": [
              "\n",
              "  <div id=\"df-8124fdd5-978a-42ff-afcc-5ec604bf0d12\">\n",
              "    <div class=\"colab-df-container\">\n",
              "      <div>\n",
              "<style scoped>\n",
              "    .dataframe tbody tr th:only-of-type {\n",
              "        vertical-align: middle;\n",
              "    }\n",
              "\n",
              "    .dataframe tbody tr th {\n",
              "        vertical-align: top;\n",
              "    }\n",
              "\n",
              "    .dataframe thead th {\n",
              "        text-align: right;\n",
              "    }\n",
              "</style>\n",
              "<table border=\"1\" class=\"dataframe\">\n",
              "  <thead>\n",
              "    <tr style=\"text-align: right;\">\n",
              "      <th></th>\n",
              "      <th>text</th>\n",
              "      <th>cleaned_text</th>\n",
              "      <th>vadar compound</th>\n",
              "      <th>vadar sentiment</th>\n",
              "      <th>sentiment</th>\n",
              "      <th>bert_pred</th>\n",
              "    </tr>\n",
              "  </thead>\n",
              "  <tbody>\n",
              "    <tr>\n",
              "      <th>0</th>\n",
              "      <td>Fu-Gee-La.\\nOh, so NOW we all love refugees!!\\...</td>\n",
              "      <td>gee now love refugees love seeing ukrainian re...</td>\n",
              "      <td>0.8807</td>\n",
              "      <td>positive</td>\n",
              "      <td>0</td>\n",
              "      <td>1</td>\n",
              "    </tr>\n",
              "    <tr>\n",
              "      <th>1</th>\n",
              "      <td>Putin's War on #Ukraine amplifies the need for...</td>\n",
              "      <td>putin war ukraine amplifies need scotland beco...</td>\n",
              "      <td>0.3400</td>\n",
              "      <td>positive</td>\n",
              "      <td>0</td>\n",
              "      <td>0</td>\n",
              "    </tr>\n",
              "    <tr>\n",
              "      <th>5</th>\n",
              "      <td>With everything that's going on #Ukraine. I wa...</td>\n",
              "      <td>everything going ukraine wanted say rarely use...</td>\n",
              "      <td>0.0772</td>\n",
              "      <td>positive</td>\n",
              "      <td>0</td>\n",
              "      <td>1</td>\n",
              "    </tr>\n",
              "    <tr>\n",
              "      <th>8</th>\n",
              "      <td>African immigrants in Ukraine tell Sidner they...</td>\n",
              "      <td>african immigrants ukraine tell sidner pushed ...</td>\n",
              "      <td>-0.7269</td>\n",
              "      <td>negative</td>\n",
              "      <td>1</td>\n",
              "      <td>1</td>\n",
              "    </tr>\n",
              "    <tr>\n",
              "      <th>12</th>\n",
              "      <td>We are offering specialist #probono advice to ...</td>\n",
              "      <td>offering specialist probono advice ukrainian n...</td>\n",
              "      <td>0.5106</td>\n",
              "      <td>positive</td>\n",
              "      <td>0</td>\n",
              "      <td>1</td>\n",
              "    </tr>\n",
              "    <tr>\n",
              "      <th>...</th>\n",
              "      <td>...</td>\n",
              "      <td>...</td>\n",
              "      <td>...</td>\n",
              "      <td>...</td>\n",
              "      <td>...</td>\n",
              "      <td>...</td>\n",
              "    </tr>\n",
              "    <tr>\n",
              "      <th>6131</th>\n",
              "      <td>Shame I'm blocked by   @SuellaBraverman  - How...</td>\n",
              "      <td>shame blocked people fleeing bombed war zone a...</td>\n",
              "      <td>-0.7269</td>\n",
              "      <td>negative</td>\n",
              "      <td>1</td>\n",
              "      <td>1</td>\n",
              "    </tr>\n",
              "    <tr>\n",
              "      <th>6132</th>\n",
              "      <td>On #bbcqt \\n\\n@SuellaBraverman “I am very disa...</td>\n",
              "      <td>bbcqt disappointed suggestion theres kind inhu...</td>\n",
              "      <td>0.0772</td>\n",
              "      <td>positive</td>\n",
              "      <td>0</td>\n",
              "      <td>0</td>\n",
              "    </tr>\n",
              "    <tr>\n",
              "      <th>6139</th>\n",
              "      <td>Suella braverman and priti patel both come fro...</td>\n",
              "      <td>suella braverman priti patel come parents asia...</td>\n",
              "      <td>-0.5423</td>\n",
              "      <td>negative</td>\n",
              "      <td>1</td>\n",
              "      <td>0</td>\n",
              "    </tr>\n",
              "    <tr>\n",
              "      <th>6146</th>\n",
              "      <td>#bbcqt @SuellaBraverman you have no shame. Cal...</td>\n",
              "      <td>bbcqt shame call daughter immigrant support ho...</td>\n",
              "      <td>-0.8126</td>\n",
              "      <td>negative</td>\n",
              "      <td>1</td>\n",
              "      <td>0</td>\n",
              "    </tr>\n",
              "    <tr>\n",
              "      <th>6154</th>\n",
              "      <td>Desperation oozing from every pore of Suella B...</td>\n",
              "      <td>desperation oozing every pore suella braverman...</td>\n",
              "      <td>-0.6597</td>\n",
              "      <td>negative</td>\n",
              "      <td>1</td>\n",
              "      <td>0</td>\n",
              "    </tr>\n",
              "  </tbody>\n",
              "</table>\n",
              "<p>804 rows × 6 columns</p>\n",
              "</div>\n",
              "      <button class=\"colab-df-convert\" onclick=\"convertToInteractive('df-8124fdd5-978a-42ff-afcc-5ec604bf0d12')\"\n",
              "              title=\"Convert this dataframe to an interactive table.\"\n",
              "              style=\"display:none;\">\n",
              "        \n",
              "  <svg xmlns=\"http://www.w3.org/2000/svg\" height=\"24px\"viewBox=\"0 0 24 24\"\n",
              "       width=\"24px\">\n",
              "    <path d=\"M0 0h24v24H0V0z\" fill=\"none\"/>\n",
              "    <path d=\"M18.56 5.44l.94 2.06.94-2.06 2.06-.94-2.06-.94-.94-2.06-.94 2.06-2.06.94zm-11 1L8.5 8.5l.94-2.06 2.06-.94-2.06-.94L8.5 2.5l-.94 2.06-2.06.94zm10 10l.94 2.06.94-2.06 2.06-.94-2.06-.94-.94-2.06-.94 2.06-2.06.94z\"/><path d=\"M17.41 7.96l-1.37-1.37c-.4-.4-.92-.59-1.43-.59-.52 0-1.04.2-1.43.59L10.3 9.45l-7.72 7.72c-.78.78-.78 2.05 0 2.83L4 21.41c.39.39.9.59 1.41.59.51 0 1.02-.2 1.41-.59l7.78-7.78 2.81-2.81c.8-.78.8-2.07 0-2.86zM5.41 20L4 18.59l7.72-7.72 1.47 1.35L5.41 20z\"/>\n",
              "  </svg>\n",
              "      </button>\n",
              "      \n",
              "  <style>\n",
              "    .colab-df-container {\n",
              "      display:flex;\n",
              "      flex-wrap:wrap;\n",
              "      gap: 12px;\n",
              "    }\n",
              "\n",
              "    .colab-df-convert {\n",
              "      background-color: #E8F0FE;\n",
              "      border: none;\n",
              "      border-radius: 50%;\n",
              "      cursor: pointer;\n",
              "      display: none;\n",
              "      fill: #1967D2;\n",
              "      height: 32px;\n",
              "      padding: 0 0 0 0;\n",
              "      width: 32px;\n",
              "    }\n",
              "\n",
              "    .colab-df-convert:hover {\n",
              "      background-color: #E2EBFA;\n",
              "      box-shadow: 0px 1px 2px rgba(60, 64, 67, 0.3), 0px 1px 3px 1px rgba(60, 64, 67, 0.15);\n",
              "      fill: #174EA6;\n",
              "    }\n",
              "\n",
              "    [theme=dark] .colab-df-convert {\n",
              "      background-color: #3B4455;\n",
              "      fill: #D2E3FC;\n",
              "    }\n",
              "\n",
              "    [theme=dark] .colab-df-convert:hover {\n",
              "      background-color: #434B5C;\n",
              "      box-shadow: 0px 1px 3px 1px rgba(0, 0, 0, 0.15);\n",
              "      filter: drop-shadow(0px 1px 2px rgba(0, 0, 0, 0.3));\n",
              "      fill: #FFFFFF;\n",
              "    }\n",
              "  </style>\n",
              "\n",
              "      <script>\n",
              "        const buttonEl =\n",
              "          document.querySelector('#df-8124fdd5-978a-42ff-afcc-5ec604bf0d12 button.colab-df-convert');\n",
              "        buttonEl.style.display =\n",
              "          google.colab.kernel.accessAllowed ? 'block' : 'none';\n",
              "\n",
              "        async function convertToInteractive(key) {\n",
              "          const element = document.querySelector('#df-8124fdd5-978a-42ff-afcc-5ec604bf0d12');\n",
              "          const dataTable =\n",
              "            await google.colab.kernel.invokeFunction('convertToInteractive',\n",
              "                                                     [key], {});\n",
              "          if (!dataTable) return;\n",
              "\n",
              "          const docLinkHtml = 'Like what you see? Visit the ' +\n",
              "            '<a target=\"_blank\" href=https://colab.research.google.com/notebooks/data_table.ipynb>data table notebook</a>'\n",
              "            + ' to learn more about interactive tables.';\n",
              "          element.innerHTML = '';\n",
              "          dataTable['output_type'] = 'display_data';\n",
              "          await google.colab.output.renderOutput(dataTable, element);\n",
              "          const docLink = document.createElement('div');\n",
              "          docLink.innerHTML = docLinkHtml;\n",
              "          element.appendChild(docLink);\n",
              "        }\n",
              "      </script>\n",
              "    </div>\n",
              "  </div>\n",
              "  "
            ]
          },
          "metadata": {},
          "execution_count": 255
        }
      ]
    },
    {
      "cell_type": "code",
      "execution_count": 16,
      "metadata": {
        "id": "4tKWDbh3d78z",
        "colab": {
          "base_uri": "https://localhost:8080/",
          "height": 235
        },
        "outputId": "80117909-9f68-4077-8452-000e69522d57"
      },
      "outputs": [
        {
          "output_type": "error",
          "ename": "NameError",
          "evalue": "ignored",
          "traceback": [
            "\u001b[0;31m---------------------------------------------------------------------------\u001b[0m",
            "\u001b[0;31mNameError\u001b[0m                                 Traceback (most recent call last)",
            "\u001b[0;32m<ipython-input-16-6c0e64732fdf>\u001b[0m in \u001b[0;36m<module>\u001b[0;34m\u001b[0m\n\u001b[1;32m      1\u001b[0m \u001b[0mimig_test\u001b[0m \u001b[0;34m=\u001b[0m \u001b[0mtf\u001b[0m\u001b[0;34m.\u001b[0m\u001b[0mdata\u001b[0m\u001b[0;34m.\u001b[0m\u001b[0mDataset\u001b[0m\u001b[0;34m.\u001b[0m\u001b[0mfrom_tensor_slices\u001b[0m\u001b[0;34m(\u001b[0m\u001b[0;34m(\u001b[0m\u001b[0mimig\u001b[0m\u001b[0;34m[\u001b[0m\u001b[0;34m\"cleaned_text\"\u001b[0m\u001b[0;34m]\u001b[0m\u001b[0;34m,\u001b[0m \u001b[0mimig\u001b[0m\u001b[0;34m[\u001b[0m\u001b[0;34m\"sentiment\"\u001b[0m\u001b[0;34m]\u001b[0m\u001b[0;34m)\u001b[0m\u001b[0;34m)\u001b[0m\u001b[0;34m\u001b[0m\u001b[0;34m\u001b[0m\u001b[0m\n\u001b[1;32m      2\u001b[0m \u001b[0mimig_test\u001b[0m \u001b[0;34m=\u001b[0m \u001b[0mimig_test\u001b[0m\u001b[0;34m.\u001b[0m\u001b[0mshuffle\u001b[0m\u001b[0;34m(\u001b[0m\u001b[0mlen\u001b[0m\u001b[0;34m(\u001b[0m\u001b[0mimig\u001b[0m\u001b[0;34m[\u001b[0m\u001b[0;34m\"cleaned_text\"\u001b[0m\u001b[0;34m]\u001b[0m\u001b[0;34m)\u001b[0m\u001b[0;34m)\u001b[0m\u001b[0;34m.\u001b[0m\u001b[0mbatch\u001b[0m\u001b[0;34m(\u001b[0m\u001b[0;36m32\u001b[0m\u001b[0;34m,\u001b[0m \u001b[0mdrop_remainder\u001b[0m\u001b[0;34m=\u001b[0m\u001b[0;32mFalse\u001b[0m\u001b[0;34m)\u001b[0m\u001b[0;34m\u001b[0m\u001b[0;34m\u001b[0m\u001b[0m\n\u001b[0;32m----> 3\u001b[0;31m \u001b[0mafghan_test\u001b[0m \u001b[0;34m=\u001b[0m \u001b[0mtf\u001b[0m\u001b[0;34m.\u001b[0m\u001b[0mdata\u001b[0m\u001b[0;34m.\u001b[0m\u001b[0mDataset\u001b[0m\u001b[0;34m.\u001b[0m\u001b[0mfrom_tensor_slices\u001b[0m\u001b[0;34m(\u001b[0m\u001b[0;34m(\u001b[0m\u001b[0mafghan\u001b[0m\u001b[0;34m[\u001b[0m\u001b[0;34m\"clean_tweet\"\u001b[0m\u001b[0;34m]\u001b[0m\u001b[0;34m,\u001b[0m \u001b[0mafghan\u001b[0m\u001b[0;34m[\u001b[0m\u001b[0;34m\"sentiment\"\u001b[0m\u001b[0;34m]\u001b[0m\u001b[0;34m)\u001b[0m\u001b[0;34m)\u001b[0m\u001b[0;34m\u001b[0m\u001b[0;34m\u001b[0m\u001b[0m\n\u001b[0m\u001b[1;32m      4\u001b[0m \u001b[0mafghan_test\u001b[0m \u001b[0;34m=\u001b[0m \u001b[0mafghan_test\u001b[0m\u001b[0;34m.\u001b[0m\u001b[0mshuffle\u001b[0m\u001b[0;34m(\u001b[0m\u001b[0mlen\u001b[0m\u001b[0;34m(\u001b[0m\u001b[0mafghan\u001b[0m\u001b[0;34m[\u001b[0m\u001b[0;34m\"clean_tweet\"\u001b[0m\u001b[0;34m]\u001b[0m\u001b[0;34m)\u001b[0m\u001b[0;34m)\u001b[0m\u001b[0;34m.\u001b[0m\u001b[0mbatch\u001b[0m\u001b[0;34m(\u001b[0m\u001b[0;36m32\u001b[0m\u001b[0;34m,\u001b[0m \u001b[0mdrop_remainder\u001b[0m\u001b[0;34m=\u001b[0m\u001b[0;32mFalse\u001b[0m\u001b[0;34m)\u001b[0m\u001b[0;34m\u001b[0m\u001b[0;34m\u001b[0m\u001b[0m\n\u001b[1;32m      5\u001b[0m \u001b[0;34m\u001b[0m\u001b[0m\n",
            "\u001b[0;31mNameError\u001b[0m: name 'afghan' is not defined"
          ]
        }
      ],
      "source": [
        "imig_test = tf.data.Dataset.from_tensor_slices((imig[\"cleaned_text\"], imig[\"sentiment\"]))\n",
        "imig_test = imig_test.shuffle(len(imig[\"cleaned_text\"])).batch(32, drop_remainder=False)\n",
        "afghan_test = tf.data.Dataset.from_tensor_slices((afghan[\"clean_tweet\"], afghan[\"sentiment\"]))\n",
        "afghan_test = afghan_test.shuffle(len(afghan[\"clean_tweet\"])).batch(32, drop_remainder=False)\n",
        "\n"
      ]
    },
    {
      "cell_type": "code",
      "source": [
        "imig"
      ],
      "metadata": {
        "colab": {
          "base_uri": "https://localhost:8080/",
          "height": 424
        },
        "id": "zGVClmXRfvsi",
        "outputId": "c1847ae2-cd4c-42d0-c044-abe3a53d6708"
      },
      "execution_count": 79,
      "outputs": [
        {
          "output_type": "execute_result",
          "data": {
            "text/plain": [
              "                                                   text  \\\n",
              "0     Fu-Gee-La.\\nOh, so NOW we all love refugees!!\\...   \n",
              "1     Putin's War on #Ukraine amplifies the need for...   \n",
              "5     With everything that's going on #Ukraine. I wa...   \n",
              "7     #Salvini è patetico..a #mezzorainpiu  ha affer...   \n",
              "8     African immigrants in Ukraine tell Sidner they...   \n",
              "...                                                 ...   \n",
              "6135  A smattering of timely records #FoundAtHSP tod...   \n",
              "6139  Suella braverman and priti patel both come fro...   \n",
              "6146  #bbcqt @SuellaBraverman you have no shame. Cal...   \n",
              "6152  #bbcqt Latest Tory policy to try and improve s...   \n",
              "6154  Desperation oozing from every pore of Suella B...   \n",
              "\n",
              "                                           cleaned_text  vadar compound  \\\n",
              "0     gee now love refugees love seeing ukrainian re...          0.8807   \n",
              "1     putin war ukraine amplifies need scotland beco...          0.3400   \n",
              "5     everything going ukraine wanted say rarely use...          0.0772   \n",
              "7     salvini patetico mezzorainpiu affermato che mi...          0.0000   \n",
              "8     african immigrants ukraine tell sidner pushed ...         -0.7269   \n",
              "...                                                 ...             ...   \n",
              "6135  smattering timely records foundathsp today ukr...          0.0000   \n",
              "6139  suella braverman priti patel come parents asia...         -0.5423   \n",
              "6146  bbcqt shame call daughter immigrant support ho...         -0.8126   \n",
              "6152  bbcqt latest tory policy try improve support p...          0.0000   \n",
              "6154  desperation oozing every pore suella braverman...         -0.6597   \n",
              "\n",
              "     vadar sentiment  sentiment  \n",
              "0           positive          0  \n",
              "1           positive          0  \n",
              "5           positive          0  \n",
              "7            neutral          0  \n",
              "8           negative          1  \n",
              "...              ...        ...  \n",
              "6135         neutral          0  \n",
              "6139        negative          1  \n",
              "6146        negative          1  \n",
              "6152         neutral          0  \n",
              "6154        negative          1  \n",
              "\n",
              "[1332 rows x 5 columns]"
            ],
            "text/html": [
              "\n",
              "  <div id=\"df-2f3e4e01-c697-4e99-af9c-51e50abb8fbe\">\n",
              "    <div class=\"colab-df-container\">\n",
              "      <div>\n",
              "<style scoped>\n",
              "    .dataframe tbody tr th:only-of-type {\n",
              "        vertical-align: middle;\n",
              "    }\n",
              "\n",
              "    .dataframe tbody tr th {\n",
              "        vertical-align: top;\n",
              "    }\n",
              "\n",
              "    .dataframe thead th {\n",
              "        text-align: right;\n",
              "    }\n",
              "</style>\n",
              "<table border=\"1\" class=\"dataframe\">\n",
              "  <thead>\n",
              "    <tr style=\"text-align: right;\">\n",
              "      <th></th>\n",
              "      <th>text</th>\n",
              "      <th>cleaned_text</th>\n",
              "      <th>vadar compound</th>\n",
              "      <th>vadar sentiment</th>\n",
              "      <th>sentiment</th>\n",
              "    </tr>\n",
              "  </thead>\n",
              "  <tbody>\n",
              "    <tr>\n",
              "      <th>0</th>\n",
              "      <td>Fu-Gee-La.\\nOh, so NOW we all love refugees!!\\...</td>\n",
              "      <td>gee now love refugees love seeing ukrainian re...</td>\n",
              "      <td>0.8807</td>\n",
              "      <td>positive</td>\n",
              "      <td>0</td>\n",
              "    </tr>\n",
              "    <tr>\n",
              "      <th>1</th>\n",
              "      <td>Putin's War on #Ukraine amplifies the need for...</td>\n",
              "      <td>putin war ukraine amplifies need scotland beco...</td>\n",
              "      <td>0.3400</td>\n",
              "      <td>positive</td>\n",
              "      <td>0</td>\n",
              "    </tr>\n",
              "    <tr>\n",
              "      <th>5</th>\n",
              "      <td>With everything that's going on #Ukraine. I wa...</td>\n",
              "      <td>everything going ukraine wanted say rarely use...</td>\n",
              "      <td>0.0772</td>\n",
              "      <td>positive</td>\n",
              "      <td>0</td>\n",
              "    </tr>\n",
              "    <tr>\n",
              "      <th>7</th>\n",
              "      <td>#Salvini è patetico..a #mezzorainpiu  ha affer...</td>\n",
              "      <td>salvini patetico mezzorainpiu affermato che mi...</td>\n",
              "      <td>0.0000</td>\n",
              "      <td>neutral</td>\n",
              "      <td>0</td>\n",
              "    </tr>\n",
              "    <tr>\n",
              "      <th>8</th>\n",
              "      <td>African immigrants in Ukraine tell Sidner they...</td>\n",
              "      <td>african immigrants ukraine tell sidner pushed ...</td>\n",
              "      <td>-0.7269</td>\n",
              "      <td>negative</td>\n",
              "      <td>1</td>\n",
              "    </tr>\n",
              "    <tr>\n",
              "      <th>...</th>\n",
              "      <td>...</td>\n",
              "      <td>...</td>\n",
              "      <td>...</td>\n",
              "      <td>...</td>\n",
              "      <td>...</td>\n",
              "    </tr>\n",
              "    <tr>\n",
              "      <th>6135</th>\n",
              "      <td>A smattering of timely records #FoundAtHSP tod...</td>\n",
              "      <td>smattering timely records foundathsp today ukr...</td>\n",
              "      <td>0.0000</td>\n",
              "      <td>neutral</td>\n",
              "      <td>0</td>\n",
              "    </tr>\n",
              "    <tr>\n",
              "      <th>6139</th>\n",
              "      <td>Suella braverman and priti patel both come fro...</td>\n",
              "      <td>suella braverman priti patel come parents asia...</td>\n",
              "      <td>-0.5423</td>\n",
              "      <td>negative</td>\n",
              "      <td>1</td>\n",
              "    </tr>\n",
              "    <tr>\n",
              "      <th>6146</th>\n",
              "      <td>#bbcqt @SuellaBraverman you have no shame. Cal...</td>\n",
              "      <td>bbcqt shame call daughter immigrant support ho...</td>\n",
              "      <td>-0.8126</td>\n",
              "      <td>negative</td>\n",
              "      <td>1</td>\n",
              "    </tr>\n",
              "    <tr>\n",
              "      <th>6152</th>\n",
              "      <td>#bbcqt Latest Tory policy to try and improve s...</td>\n",
              "      <td>bbcqt latest tory policy try improve support p...</td>\n",
              "      <td>0.0000</td>\n",
              "      <td>neutral</td>\n",
              "      <td>0</td>\n",
              "    </tr>\n",
              "    <tr>\n",
              "      <th>6154</th>\n",
              "      <td>Desperation oozing from every pore of Suella B...</td>\n",
              "      <td>desperation oozing every pore suella braverman...</td>\n",
              "      <td>-0.6597</td>\n",
              "      <td>negative</td>\n",
              "      <td>1</td>\n",
              "    </tr>\n",
              "  </tbody>\n",
              "</table>\n",
              "<p>1332 rows × 5 columns</p>\n",
              "</div>\n",
              "      <button class=\"colab-df-convert\" onclick=\"convertToInteractive('df-2f3e4e01-c697-4e99-af9c-51e50abb8fbe')\"\n",
              "              title=\"Convert this dataframe to an interactive table.\"\n",
              "              style=\"display:none;\">\n",
              "        \n",
              "  <svg xmlns=\"http://www.w3.org/2000/svg\" height=\"24px\"viewBox=\"0 0 24 24\"\n",
              "       width=\"24px\">\n",
              "    <path d=\"M0 0h24v24H0V0z\" fill=\"none\"/>\n",
              "    <path d=\"M18.56 5.44l.94 2.06.94-2.06 2.06-.94-2.06-.94-.94-2.06-.94 2.06-2.06.94zm-11 1L8.5 8.5l.94-2.06 2.06-.94-2.06-.94L8.5 2.5l-.94 2.06-2.06.94zm10 10l.94 2.06.94-2.06 2.06-.94-2.06-.94-.94-2.06-.94 2.06-2.06.94z\"/><path d=\"M17.41 7.96l-1.37-1.37c-.4-.4-.92-.59-1.43-.59-.52 0-1.04.2-1.43.59L10.3 9.45l-7.72 7.72c-.78.78-.78 2.05 0 2.83L4 21.41c.39.39.9.59 1.41.59.51 0 1.02-.2 1.41-.59l7.78-7.78 2.81-2.81c.8-.78.8-2.07 0-2.86zM5.41 20L4 18.59l7.72-7.72 1.47 1.35L5.41 20z\"/>\n",
              "  </svg>\n",
              "      </button>\n",
              "      \n",
              "  <style>\n",
              "    .colab-df-container {\n",
              "      display:flex;\n",
              "      flex-wrap:wrap;\n",
              "      gap: 12px;\n",
              "    }\n",
              "\n",
              "    .colab-df-convert {\n",
              "      background-color: #E8F0FE;\n",
              "      border: none;\n",
              "      border-radius: 50%;\n",
              "      cursor: pointer;\n",
              "      display: none;\n",
              "      fill: #1967D2;\n",
              "      height: 32px;\n",
              "      padding: 0 0 0 0;\n",
              "      width: 32px;\n",
              "    }\n",
              "\n",
              "    .colab-df-convert:hover {\n",
              "      background-color: #E2EBFA;\n",
              "      box-shadow: 0px 1px 2px rgba(60, 64, 67, 0.3), 0px 1px 3px 1px rgba(60, 64, 67, 0.15);\n",
              "      fill: #174EA6;\n",
              "    }\n",
              "\n",
              "    [theme=dark] .colab-df-convert {\n",
              "      background-color: #3B4455;\n",
              "      fill: #D2E3FC;\n",
              "    }\n",
              "\n",
              "    [theme=dark] .colab-df-convert:hover {\n",
              "      background-color: #434B5C;\n",
              "      box-shadow: 0px 1px 3px 1px rgba(0, 0, 0, 0.15);\n",
              "      filter: drop-shadow(0px 1px 2px rgba(0, 0, 0, 0.3));\n",
              "      fill: #FFFFFF;\n",
              "    }\n",
              "  </style>\n",
              "\n",
              "      <script>\n",
              "        const buttonEl =\n",
              "          document.querySelector('#df-2f3e4e01-c697-4e99-af9c-51e50abb8fbe button.colab-df-convert');\n",
              "        buttonEl.style.display =\n",
              "          google.colab.kernel.accessAllowed ? 'block' : 'none';\n",
              "\n",
              "        async function convertToInteractive(key) {\n",
              "          const element = document.querySelector('#df-2f3e4e01-c697-4e99-af9c-51e50abb8fbe');\n",
              "          const dataTable =\n",
              "            await google.colab.kernel.invokeFunction('convertToInteractive',\n",
              "                                                     [key], {});\n",
              "          if (!dataTable) return;\n",
              "\n",
              "          const docLinkHtml = 'Like what you see? Visit the ' +\n",
              "            '<a target=\"_blank\" href=https://colab.research.google.com/notebooks/data_table.ipynb>data table notebook</a>'\n",
              "            + ' to learn more about interactive tables.';\n",
              "          element.innerHTML = '';\n",
              "          dataTable['output_type'] = 'display_data';\n",
              "          await google.colab.output.renderOutput(dataTable, element);\n",
              "          const docLink = document.createElement('div');\n",
              "          docLink.innerHTML = docLinkHtml;\n",
              "          element.appendChild(docLink);\n",
              "        }\n",
              "      </script>\n",
              "    </div>\n",
              "  </div>\n",
              "  "
            ]
          },
          "metadata": {},
          "execution_count": 79
        }
      ]
    },
    {
      "cell_type": "code",
      "execution_count": null,
      "metadata": {
        "id": "wga0nPjDlb07"
      },
      "outputs": [],
      "source": [
        "df_feb = pd.read_csv(\"feb_sentiment_analysis_RoBERTa_raw_values.csv\")"
      ]
    },
    {
      "cell_type": "code",
      "source": [
        "df_march"
      ],
      "metadata": {
        "id": "qQLr9UI51Mqd",
        "colab": {
          "base_uri": "https://localhost:8080/",
          "height": 424
        },
        "outputId": "a1ec2e52-5131-4a07-cbde-1afbced3f64d"
      },
      "execution_count": 55,
      "outputs": [
        {
          "output_type": "execute_result",
          "data": {
            "text/plain": [
              "                                                   text  \\\n",
              "0     Fu-Gee-La.\\nOh, so NOW we all love refugees!!\\...   \n",
              "1     Putin's War on #Ukraine amplifies the need for...   \n",
              "2     Putin's War on #Ukraine amplifies the need for...   \n",
              "3     Fu-Gee-La.\\nOh, so NOW we all love refugees!!\\...   \n",
              "4     Fu-Gee-La.\\nOh, so NOW we all love refugees!!\\...   \n",
              "...                                                 ...   \n",
              "6156  #German Chancellor Olaf Scholz condemned discr...   \n",
              "6157  “I am very disappointed by the suggestion that...   \n",
              "6158  #German Chancellor Olaf Scholz condemned discr...   \n",
              "6159  “I am very disappointed by the suggestion that...   \n",
              "6160  #German Chancellor Olaf Scholz condemned discr...   \n",
              "\n",
              "                                           cleaned_text  \n",
              "0     gee now love refugees love seeing ukrainian re...  \n",
              "1     putin war ukraine amplifies need scotland beco...  \n",
              "2     putin war ukraine amplifies need scotland beco...  \n",
              "3     gee now love refugees love seeing ukrainian re...  \n",
              "4     gee now love refugees love seeing ukrainian re...  \n",
              "...                                                 ...  \n",
              "6156  german chancellor olaf scholz condemned discri...  \n",
              "6157  disappointed suggestion theres kind inhumane a...  \n",
              "6158  german chancellor olaf scholz condemned discri...  \n",
              "6159  disappointed suggestion theres kind inhumane a...  \n",
              "6160  german chancellor olaf scholz condemned discri...  \n",
              "\n",
              "[6161 rows x 2 columns]"
            ],
            "text/html": [
              "\n",
              "  <div id=\"df-b2969c8c-e6e8-4c71-bc1c-283797f938db\">\n",
              "    <div class=\"colab-df-container\">\n",
              "      <div>\n",
              "<style scoped>\n",
              "    .dataframe tbody tr th:only-of-type {\n",
              "        vertical-align: middle;\n",
              "    }\n",
              "\n",
              "    .dataframe tbody tr th {\n",
              "        vertical-align: top;\n",
              "    }\n",
              "\n",
              "    .dataframe thead th {\n",
              "        text-align: right;\n",
              "    }\n",
              "</style>\n",
              "<table border=\"1\" class=\"dataframe\">\n",
              "  <thead>\n",
              "    <tr style=\"text-align: right;\">\n",
              "      <th></th>\n",
              "      <th>text</th>\n",
              "      <th>cleaned_text</th>\n",
              "    </tr>\n",
              "  </thead>\n",
              "  <tbody>\n",
              "    <tr>\n",
              "      <th>0</th>\n",
              "      <td>Fu-Gee-La.\\nOh, so NOW we all love refugees!!\\...</td>\n",
              "      <td>gee now love refugees love seeing ukrainian re...</td>\n",
              "    </tr>\n",
              "    <tr>\n",
              "      <th>1</th>\n",
              "      <td>Putin's War on #Ukraine amplifies the need for...</td>\n",
              "      <td>putin war ukraine amplifies need scotland beco...</td>\n",
              "    </tr>\n",
              "    <tr>\n",
              "      <th>2</th>\n",
              "      <td>Putin's War on #Ukraine amplifies the need for...</td>\n",
              "      <td>putin war ukraine amplifies need scotland beco...</td>\n",
              "    </tr>\n",
              "    <tr>\n",
              "      <th>3</th>\n",
              "      <td>Fu-Gee-La.\\nOh, so NOW we all love refugees!!\\...</td>\n",
              "      <td>gee now love refugees love seeing ukrainian re...</td>\n",
              "    </tr>\n",
              "    <tr>\n",
              "      <th>4</th>\n",
              "      <td>Fu-Gee-La.\\nOh, so NOW we all love refugees!!\\...</td>\n",
              "      <td>gee now love refugees love seeing ukrainian re...</td>\n",
              "    </tr>\n",
              "    <tr>\n",
              "      <th>...</th>\n",
              "      <td>...</td>\n",
              "      <td>...</td>\n",
              "    </tr>\n",
              "    <tr>\n",
              "      <th>6156</th>\n",
              "      <td>#German Chancellor Olaf Scholz condemned discr...</td>\n",
              "      <td>german chancellor olaf scholz condemned discri...</td>\n",
              "    </tr>\n",
              "    <tr>\n",
              "      <th>6157</th>\n",
              "      <td>“I am very disappointed by the suggestion that...</td>\n",
              "      <td>disappointed suggestion theres kind inhumane a...</td>\n",
              "    </tr>\n",
              "    <tr>\n",
              "      <th>6158</th>\n",
              "      <td>#German Chancellor Olaf Scholz condemned discr...</td>\n",
              "      <td>german chancellor olaf scholz condemned discri...</td>\n",
              "    </tr>\n",
              "    <tr>\n",
              "      <th>6159</th>\n",
              "      <td>“I am very disappointed by the suggestion that...</td>\n",
              "      <td>disappointed suggestion theres kind inhumane a...</td>\n",
              "    </tr>\n",
              "    <tr>\n",
              "      <th>6160</th>\n",
              "      <td>#German Chancellor Olaf Scholz condemned discr...</td>\n",
              "      <td>german chancellor olaf scholz condemned discri...</td>\n",
              "    </tr>\n",
              "  </tbody>\n",
              "</table>\n",
              "<p>6161 rows × 2 columns</p>\n",
              "</div>\n",
              "      <button class=\"colab-df-convert\" onclick=\"convertToInteractive('df-b2969c8c-e6e8-4c71-bc1c-283797f938db')\"\n",
              "              title=\"Convert this dataframe to an interactive table.\"\n",
              "              style=\"display:none;\">\n",
              "        \n",
              "  <svg xmlns=\"http://www.w3.org/2000/svg\" height=\"24px\"viewBox=\"0 0 24 24\"\n",
              "       width=\"24px\">\n",
              "    <path d=\"M0 0h24v24H0V0z\" fill=\"none\"/>\n",
              "    <path d=\"M18.56 5.44l.94 2.06.94-2.06 2.06-.94-2.06-.94-.94-2.06-.94 2.06-2.06.94zm-11 1L8.5 8.5l.94-2.06 2.06-.94-2.06-.94L8.5 2.5l-.94 2.06-2.06.94zm10 10l.94 2.06.94-2.06 2.06-.94-2.06-.94-.94-2.06-.94 2.06-2.06.94z\"/><path d=\"M17.41 7.96l-1.37-1.37c-.4-.4-.92-.59-1.43-.59-.52 0-1.04.2-1.43.59L10.3 9.45l-7.72 7.72c-.78.78-.78 2.05 0 2.83L4 21.41c.39.39.9.59 1.41.59.51 0 1.02-.2 1.41-.59l7.78-7.78 2.81-2.81c.8-.78.8-2.07 0-2.86zM5.41 20L4 18.59l7.72-7.72 1.47 1.35L5.41 20z\"/>\n",
              "  </svg>\n",
              "      </button>\n",
              "      \n",
              "  <style>\n",
              "    .colab-df-container {\n",
              "      display:flex;\n",
              "      flex-wrap:wrap;\n",
              "      gap: 12px;\n",
              "    }\n",
              "\n",
              "    .colab-df-convert {\n",
              "      background-color: #E8F0FE;\n",
              "      border: none;\n",
              "      border-radius: 50%;\n",
              "      cursor: pointer;\n",
              "      display: none;\n",
              "      fill: #1967D2;\n",
              "      height: 32px;\n",
              "      padding: 0 0 0 0;\n",
              "      width: 32px;\n",
              "    }\n",
              "\n",
              "    .colab-df-convert:hover {\n",
              "      background-color: #E2EBFA;\n",
              "      box-shadow: 0px 1px 2px rgba(60, 64, 67, 0.3), 0px 1px 3px 1px rgba(60, 64, 67, 0.15);\n",
              "      fill: #174EA6;\n",
              "    }\n",
              "\n",
              "    [theme=dark] .colab-df-convert {\n",
              "      background-color: #3B4455;\n",
              "      fill: #D2E3FC;\n",
              "    }\n",
              "\n",
              "    [theme=dark] .colab-df-convert:hover {\n",
              "      background-color: #434B5C;\n",
              "      box-shadow: 0px 1px 3px 1px rgba(0, 0, 0, 0.15);\n",
              "      filter: drop-shadow(0px 1px 2px rgba(0, 0, 0, 0.3));\n",
              "      fill: #FFFFFF;\n",
              "    }\n",
              "  </style>\n",
              "\n",
              "      <script>\n",
              "        const buttonEl =\n",
              "          document.querySelector('#df-b2969c8c-e6e8-4c71-bc1c-283797f938db button.colab-df-convert');\n",
              "        buttonEl.style.display =\n",
              "          google.colab.kernel.accessAllowed ? 'block' : 'none';\n",
              "\n",
              "        async function convertToInteractive(key) {\n",
              "          const element = document.querySelector('#df-b2969c8c-e6e8-4c71-bc1c-283797f938db');\n",
              "          const dataTable =\n",
              "            await google.colab.kernel.invokeFunction('convertToInteractive',\n",
              "                                                     [key], {});\n",
              "          if (!dataTable) return;\n",
              "\n",
              "          const docLinkHtml = 'Like what you see? Visit the ' +\n",
              "            '<a target=\"_blank\" href=https://colab.research.google.com/notebooks/data_table.ipynb>data table notebook</a>'\n",
              "            + ' to learn more about interactive tables.';\n",
              "          element.innerHTML = '';\n",
              "          dataTable['output_type'] = 'display_data';\n",
              "          await google.colab.output.renderOutput(dataTable, element);\n",
              "          const docLink = document.createElement('div');\n",
              "          docLink.innerHTML = docLinkHtml;\n",
              "          element.appendChild(docLink);\n",
              "        }\n",
              "      </script>\n",
              "    </div>\n",
              "  </div>\n",
              "  "
            ]
          },
          "metadata": {},
          "execution_count": 55
        }
      ]
    },
    {
      "cell_type": "code",
      "execution_count": 3,
      "metadata": {
        "id": "f9OyKSxyDKVg"
      },
      "outputs": [],
      "source": [
        "df_march = pd.read_csv(\"ukr_immigration_tweets.csv\") "
      ]
    },
    {
      "cell_type": "code",
      "source": [
        "df_feb.columns"
      ],
      "metadata": {
        "colab": {
          "base_uri": "https://localhost:8080/"
        },
        "id": "gy6M2qnW0RHh",
        "outputId": "d72f93f7-e5a7-4466-9557-f13242f55c16"
      },
      "execution_count": null,
      "outputs": [
        {
          "output_type": "execute_result",
          "data": {
            "text/plain": [
              "Index(['Unnamed: 0', 'userid', 'username', 'acctdesc', 'location', 'following',\n",
              "       'followers', 'totaltweets', 'usercreatedts', 'tweetid',\n",
              "       'tweetcreatedts', 'retweetcount', 'text', 'hashtags', 'language',\n",
              "       'coordinates', 'favorite_count', 'extractedts'],\n",
              "      dtype='object')"
            ]
          },
          "metadata": {},
          "execution_count": 51
        }
      ]
    },
    {
      "cell_type": "code",
      "execution_count": 4,
      "metadata": {
        "id": "6cyuJEUZP7c5"
      },
      "outputs": [],
      "source": [
        "df_march = df_march[['text']] \n",
        "df_march[\"cleaned_text\"] = df_march[\"text\"].apply(text_clean)"
      ]
    },
    {
      "cell_type": "code",
      "execution_count": 5,
      "metadata": {
        "id": "RP4QUT7-YKcq",
        "colab": {
          "base_uri": "https://localhost:8080/",
          "height": 1433
        },
        "outputId": "4a81f575-94cb-4b6a-f1bd-ed95edcaf375"
      },
      "outputs": [
        {
          "output_type": "execute_result",
          "data": {
            "text/plain": [
              "                                                   text  \\\n",
              "0     Fu-Gee-La.\\nOh, so NOW we all love refugees!!\\...   \n",
              "1     Putin's War on #Ukraine amplifies the need for...   \n",
              "5     With everything that's going on #Ukraine. I wa...   \n",
              "7     #Salvini è patetico..a #mezzorainpiu  ha affer...   \n",
              "8     African immigrants in Ukraine tell Sidner they...   \n",
              "...                                                 ...   \n",
              "6135  A smattering of timely records #FoundAtHSP tod...   \n",
              "6139  Suella braverman and priti patel both come fro...   \n",
              "6146  #bbcqt @SuellaBraverman you have no shame. Cal...   \n",
              "6152  #bbcqt Latest Tory policy to try and improve s...   \n",
              "6154  Desperation oozing from every pore of Suella B...   \n",
              "\n",
              "                                           cleaned_text  \n",
              "0     love refuge love see ukrainian refuge embrac o...  \n",
              "1     putin ukrain amplifi need scotland becom indep...  \n",
              "5     everyth go ukrain want rare phrase rememb russ...  \n",
              "7     salvini patetico mezzorainpiu affermato miglio...  \n",
              "8     african immigr ukrain tell sidner push train s...  \n",
              "...                                                 ...  \n",
              "6135  smatter time record foundathsp today ukrain eu...  \n",
              "6139  suella braverman priti patel come parent asian...  \n",
              "6146  bbcqt shame call daughter immigr support hosti...  \n",
              "6152  bbcqt latest torus polici improv support poll ...  \n",
              "6154  desper ooz everi pore suella braverman bbcqt b...  \n",
              "\n",
              "[1331 rows x 2 columns]"
            ],
            "text/html": [
              "\n",
              "  <div id=\"df-39b46b83-9c58-4243-8161-5c6110387b54\">\n",
              "    <div class=\"colab-df-container\">\n",
              "      <div>\n",
              "<style scoped>\n",
              "    .dataframe tbody tr th:only-of-type {\n",
              "        vertical-align: middle;\n",
              "    }\n",
              "\n",
              "    .dataframe tbody tr th {\n",
              "        vertical-align: top;\n",
              "    }\n",
              "\n",
              "    .dataframe thead th {\n",
              "        text-align: right;\n",
              "    }\n",
              "</style>\n",
              "<table border=\"1\" class=\"dataframe\">\n",
              "  <thead>\n",
              "    <tr style=\"text-align: right;\">\n",
              "      <th></th>\n",
              "      <th>text</th>\n",
              "      <th>cleaned_text</th>\n",
              "    </tr>\n",
              "  </thead>\n",
              "  <tbody>\n",
              "    <tr>\n",
              "      <th>0</th>\n",
              "      <td>Fu-Gee-La.\\nOh, so NOW we all love refugees!!\\...</td>\n",
              "      <td>love refuge love see ukrainian refuge embrac o...</td>\n",
              "    </tr>\n",
              "    <tr>\n",
              "      <th>1</th>\n",
              "      <td>Putin's War on #Ukraine amplifies the need for...</td>\n",
              "      <td>putin ukrain amplifi need scotland becom indep...</td>\n",
              "    </tr>\n",
              "    <tr>\n",
              "      <th>5</th>\n",
              "      <td>With everything that's going on #Ukraine. I wa...</td>\n",
              "      <td>everyth go ukrain want rare phrase rememb russ...</td>\n",
              "    </tr>\n",
              "    <tr>\n",
              "      <th>7</th>\n",
              "      <td>#Salvini è patetico..a #mezzorainpiu  ha affer...</td>\n",
              "      <td>salvini patetico mezzorainpiu affermato miglio...</td>\n",
              "    </tr>\n",
              "    <tr>\n",
              "      <th>8</th>\n",
              "      <td>African immigrants in Ukraine tell Sidner they...</td>\n",
              "      <td>african immigr ukrain tell sidner push train s...</td>\n",
              "    </tr>\n",
              "    <tr>\n",
              "      <th>...</th>\n",
              "      <td>...</td>\n",
              "      <td>...</td>\n",
              "    </tr>\n",
              "    <tr>\n",
              "      <th>6135</th>\n",
              "      <td>A smattering of timely records #FoundAtHSP tod...</td>\n",
              "      <td>smatter time record foundathsp today ukrain eu...</td>\n",
              "    </tr>\n",
              "    <tr>\n",
              "      <th>6139</th>\n",
              "      <td>Suella braverman and priti patel both come fro...</td>\n",
              "      <td>suella braverman priti patel come parent asian...</td>\n",
              "    </tr>\n",
              "    <tr>\n",
              "      <th>6146</th>\n",
              "      <td>#bbcqt @SuellaBraverman you have no shame. Cal...</td>\n",
              "      <td>bbcqt shame call daughter immigr support hosti...</td>\n",
              "    </tr>\n",
              "    <tr>\n",
              "      <th>6152</th>\n",
              "      <td>#bbcqt Latest Tory policy to try and improve s...</td>\n",
              "      <td>bbcqt latest torus polici improv support poll ...</td>\n",
              "    </tr>\n",
              "    <tr>\n",
              "      <th>6154</th>\n",
              "      <td>Desperation oozing from every pore of Suella B...</td>\n",
              "      <td>desper ooz everi pore suella braverman bbcqt b...</td>\n",
              "    </tr>\n",
              "  </tbody>\n",
              "</table>\n",
              "<p>1331 rows × 2 columns</p>\n",
              "</div>\n",
              "      <button class=\"colab-df-convert\" onclick=\"convertToInteractive('df-39b46b83-9c58-4243-8161-5c6110387b54')\"\n",
              "              title=\"Convert this dataframe to an interactive table.\"\n",
              "              style=\"display:none;\">\n",
              "        \n",
              "  <svg xmlns=\"http://www.w3.org/2000/svg\" height=\"24px\"viewBox=\"0 0 24 24\"\n",
              "       width=\"24px\">\n",
              "    <path d=\"M0 0h24v24H0V0z\" fill=\"none\"/>\n",
              "    <path d=\"M18.56 5.44l.94 2.06.94-2.06 2.06-.94-2.06-.94-.94-2.06-.94 2.06-2.06.94zm-11 1L8.5 8.5l.94-2.06 2.06-.94-2.06-.94L8.5 2.5l-.94 2.06-2.06.94zm10 10l.94 2.06.94-2.06 2.06-.94-2.06-.94-.94-2.06-.94 2.06-2.06.94z\"/><path d=\"M17.41 7.96l-1.37-1.37c-.4-.4-.92-.59-1.43-.59-.52 0-1.04.2-1.43.59L10.3 9.45l-7.72 7.72c-.78.78-.78 2.05 0 2.83L4 21.41c.39.39.9.59 1.41.59.51 0 1.02-.2 1.41-.59l7.78-7.78 2.81-2.81c.8-.78.8-2.07 0-2.86zM5.41 20L4 18.59l7.72-7.72 1.47 1.35L5.41 20z\"/>\n",
              "  </svg>\n",
              "      </button>\n",
              "      \n",
              "  <style>\n",
              "    .colab-df-container {\n",
              "      display:flex;\n",
              "      flex-wrap:wrap;\n",
              "      gap: 12px;\n",
              "    }\n",
              "\n",
              "    .colab-df-convert {\n",
              "      background-color: #E8F0FE;\n",
              "      border: none;\n",
              "      border-radius: 50%;\n",
              "      cursor: pointer;\n",
              "      display: none;\n",
              "      fill: #1967D2;\n",
              "      height: 32px;\n",
              "      padding: 0 0 0 0;\n",
              "      width: 32px;\n",
              "    }\n",
              "\n",
              "    .colab-df-convert:hover {\n",
              "      background-color: #E2EBFA;\n",
              "      box-shadow: 0px 1px 2px rgba(60, 64, 67, 0.3), 0px 1px 3px 1px rgba(60, 64, 67, 0.15);\n",
              "      fill: #174EA6;\n",
              "    }\n",
              "\n",
              "    [theme=dark] .colab-df-convert {\n",
              "      background-color: #3B4455;\n",
              "      fill: #D2E3FC;\n",
              "    }\n",
              "\n",
              "    [theme=dark] .colab-df-convert:hover {\n",
              "      background-color: #434B5C;\n",
              "      box-shadow: 0px 1px 3px 1px rgba(0, 0, 0, 0.15);\n",
              "      filter: drop-shadow(0px 1px 2px rgba(0, 0, 0, 0.3));\n",
              "      fill: #FFFFFF;\n",
              "    }\n",
              "  </style>\n",
              "\n",
              "      <script>\n",
              "        const buttonEl =\n",
              "          document.querySelector('#df-39b46b83-9c58-4243-8161-5c6110387b54 button.colab-df-convert');\n",
              "        buttonEl.style.display =\n",
              "          google.colab.kernel.accessAllowed ? 'block' : 'none';\n",
              "\n",
              "        async function convertToInteractive(key) {\n",
              "          const element = document.querySelector('#df-39b46b83-9c58-4243-8161-5c6110387b54');\n",
              "          const dataTable =\n",
              "            await google.colab.kernel.invokeFunction('convertToInteractive',\n",
              "                                                     [key], {});\n",
              "          if (!dataTable) return;\n",
              "\n",
              "          const docLinkHtml = 'Like what you see? Visit the ' +\n",
              "            '<a target=\"_blank\" href=https://colab.research.google.com/notebooks/data_table.ipynb>data table notebook</a>'\n",
              "            + ' to learn more about interactive tables.';\n",
              "          element.innerHTML = '';\n",
              "          dataTable['output_type'] = 'display_data';\n",
              "          await google.colab.output.renderOutput(dataTable, element);\n",
              "          const docLink = document.createElement('div');\n",
              "          docLink.innerHTML = docLinkHtml;\n",
              "          element.appendChild(docLink);\n",
              "        }\n",
              "      </script>\n",
              "    </div>\n",
              "  </div>\n",
              "  "
            ]
          },
          "metadata": {},
          "execution_count": 5
        }
      ],
      "source": [
        "imig = df_march.drop_duplicates(subset=['cleaned_text'])\n",
        "imig"
      ]
    },
    {
      "cell_type": "code",
      "execution_count": 6,
      "metadata": {
        "id": "AW3FE3R5ZaFf"
      },
      "outputs": [],
      "source": [
        "afghan = pd.read_csv(\"afghanistan3.csv\")"
      ]
    },
    {
      "cell_type": "code",
      "source": [
        "afghan"
      ],
      "metadata": {
        "colab": {
          "base_uri": "https://localhost:8080/",
          "height": 641
        },
        "id": "1V8AR_QnlUtS",
        "outputId": "282188db-2caf-4754-f66d-fc2694ffc235"
      },
      "execution_count": 4,
      "outputs": [
        {
          "output_type": "execute_result",
          "data": {
            "text/plain": [
              "                            date  \\\n",
              "0      2021-09-04 23:59:57+00:00   \n",
              "1      2021-09-04 23:59:56+00:00   \n",
              "2      2021-09-04 23:59:56+00:00   \n",
              "3      2021-09-04 23:59:56+00:00   \n",
              "4      2021-09-04 23:59:48+00:00   \n",
              "...                          ...   \n",
              "36554  2021-09-04 09:48:00+00:00   \n",
              "36555  2021-09-04 09:47:57+00:00   \n",
              "36556  2021-09-04 09:47:57+00:00   \n",
              "36557  2021-09-04 09:47:54+00:00   \n",
              "36558  2021-09-04 09:47:51+00:00   \n",
              "\n",
              "                                              rawContent  \\\n",
              "0      @KP24 If India 🇮🇳, Australia 🇦🇺 and England 🏴󠁧...   \n",
              "1      Overall, do you think the U.S. role in Afghani...   \n",
              "2      Afghanistan: Life for those left behind https:...   \n",
              "3      Afghanistan: Life for those left behind https:...   \n",
              "4      @Hrushik06039597 @NA2NRF It’s terror game over...   \n",
              "...                                                  ...   \n",
              "36554  અફઘાનીઓ ભારતમાં આશ્રય લેવા માટે કોઈ પણ કિંમત ચ...   \n",
              "36555  Taliban is just a \"complete communication blac...   \n",
              "36556  @JKasek *Redebeitrag eines Geflüchteten zur Si...   \n",
              "36557  #Corona #COVID19 #Divigate #Impfung #Impfungen...   \n",
              "36558  @TimesNow @GeneralBakshi @LawrenceSellin @Dhru...   \n",
              "\n",
              "                                         renderedContent            id place  \n",
              "0      @KP24 If India 🇮🇳, Australia 🇦🇺 and England 🏴󠁧...  1.434305e+18   NaN  \n",
              "1      Overall, do you think the U.S. role in Afghani...  1.434305e+18   NaN  \n",
              "2      Afghanistan: Life for those left behind bbc.in...  1.434305e+18   NaN  \n",
              "3      Afghanistan: Life for those left behind bbc.in...  1.434305e+18   NaN  \n",
              "4      @Hrushik06039597 @NA2NRF It’s terror game over...  1.434305e+18   NaN  \n",
              "...                                                  ...           ...   ...  \n",
              "36554  અફઘાનીઓ ભારતમાં આશ્રય લેવા માટે કોઈ પણ કિંમત ચ...  1.434091e+18   NaN  \n",
              "36555  Taliban is just a \"complete communication blac...  1.434091e+18   NaN  \n",
              "36556  @JKasek *Redebeitrag eines Geflüchteten zur Si...  1.434091e+18   NaN  \n",
              "36557  #Corona #COVID19 #Divigate #Impfung #Impfungen...  1.434091e+18   NaN  \n",
              "36558  @TimesNow @GeneralBakshi @LawrenceSellin @Dhru...           NaN   NaN  \n",
              "\n",
              "[36559 rows x 5 columns]"
            ],
            "text/html": [
              "\n",
              "  <div id=\"df-8c390997-b0cd-4029-8adf-f31cf2e2a91d\">\n",
              "    <div class=\"colab-df-container\">\n",
              "      <div>\n",
              "<style scoped>\n",
              "    .dataframe tbody tr th:only-of-type {\n",
              "        vertical-align: middle;\n",
              "    }\n",
              "\n",
              "    .dataframe tbody tr th {\n",
              "        vertical-align: top;\n",
              "    }\n",
              "\n",
              "    .dataframe thead th {\n",
              "        text-align: right;\n",
              "    }\n",
              "</style>\n",
              "<table border=\"1\" class=\"dataframe\">\n",
              "  <thead>\n",
              "    <tr style=\"text-align: right;\">\n",
              "      <th></th>\n",
              "      <th>date</th>\n",
              "      <th>rawContent</th>\n",
              "      <th>renderedContent</th>\n",
              "      <th>id</th>\n",
              "      <th>place</th>\n",
              "    </tr>\n",
              "  </thead>\n",
              "  <tbody>\n",
              "    <tr>\n",
              "      <th>0</th>\n",
              "      <td>2021-09-04 23:59:57+00:00</td>\n",
              "      <td>@KP24 If India 🇮🇳, Australia 🇦🇺 and England 🏴󠁧...</td>\n",
              "      <td>@KP24 If India 🇮🇳, Australia 🇦🇺 and England 🏴󠁧...</td>\n",
              "      <td>1.434305e+18</td>\n",
              "      <td>NaN</td>\n",
              "    </tr>\n",
              "    <tr>\n",
              "      <th>1</th>\n",
              "      <td>2021-09-04 23:59:56+00:00</td>\n",
              "      <td>Overall, do you think the U.S. role in Afghani...</td>\n",
              "      <td>Overall, do you think the U.S. role in Afghani...</td>\n",
              "      <td>1.434305e+18</td>\n",
              "      <td>NaN</td>\n",
              "    </tr>\n",
              "    <tr>\n",
              "      <th>2</th>\n",
              "      <td>2021-09-04 23:59:56+00:00</td>\n",
              "      <td>Afghanistan: Life for those left behind https:...</td>\n",
              "      <td>Afghanistan: Life for those left behind bbc.in...</td>\n",
              "      <td>1.434305e+18</td>\n",
              "      <td>NaN</td>\n",
              "    </tr>\n",
              "    <tr>\n",
              "      <th>3</th>\n",
              "      <td>2021-09-04 23:59:56+00:00</td>\n",
              "      <td>Afghanistan: Life for those left behind https:...</td>\n",
              "      <td>Afghanistan: Life for those left behind bbc.in...</td>\n",
              "      <td>1.434305e+18</td>\n",
              "      <td>NaN</td>\n",
              "    </tr>\n",
              "    <tr>\n",
              "      <th>4</th>\n",
              "      <td>2021-09-04 23:59:48+00:00</td>\n",
              "      <td>@Hrushik06039597 @NA2NRF It’s terror game over...</td>\n",
              "      <td>@Hrushik06039597 @NA2NRF It’s terror game over...</td>\n",
              "      <td>1.434305e+18</td>\n",
              "      <td>NaN</td>\n",
              "    </tr>\n",
              "    <tr>\n",
              "      <th>...</th>\n",
              "      <td>...</td>\n",
              "      <td>...</td>\n",
              "      <td>...</td>\n",
              "      <td>...</td>\n",
              "      <td>...</td>\n",
              "    </tr>\n",
              "    <tr>\n",
              "      <th>36554</th>\n",
              "      <td>2021-09-04 09:48:00+00:00</td>\n",
              "      <td>અફઘાનીઓ ભારતમાં આશ્રય લેવા માટે કોઈ પણ કિંમત ચ...</td>\n",
              "      <td>અફઘાનીઓ ભારતમાં આશ્રય લેવા માટે કોઈ પણ કિંમત ચ...</td>\n",
              "      <td>1.434091e+18</td>\n",
              "      <td>NaN</td>\n",
              "    </tr>\n",
              "    <tr>\n",
              "      <th>36555</th>\n",
              "      <td>2021-09-04 09:47:57+00:00</td>\n",
              "      <td>Taliban is just a \"complete communication blac...</td>\n",
              "      <td>Taliban is just a \"complete communication blac...</td>\n",
              "      <td>1.434091e+18</td>\n",
              "      <td>NaN</td>\n",
              "    </tr>\n",
              "    <tr>\n",
              "      <th>36556</th>\n",
              "      <td>2021-09-04 09:47:57+00:00</td>\n",
              "      <td>@JKasek *Redebeitrag eines Geflüchteten zur Si...</td>\n",
              "      <td>@JKasek *Redebeitrag eines Geflüchteten zur Si...</td>\n",
              "      <td>1.434091e+18</td>\n",
              "      <td>NaN</td>\n",
              "    </tr>\n",
              "    <tr>\n",
              "      <th>36557</th>\n",
              "      <td>2021-09-04 09:47:54+00:00</td>\n",
              "      <td>#Corona #COVID19 #Divigate #Impfung #Impfungen...</td>\n",
              "      <td>#Corona #COVID19 #Divigate #Impfung #Impfungen...</td>\n",
              "      <td>1.434091e+18</td>\n",
              "      <td>NaN</td>\n",
              "    </tr>\n",
              "    <tr>\n",
              "      <th>36558</th>\n",
              "      <td>2021-09-04 09:47:51+00:00</td>\n",
              "      <td>@TimesNow @GeneralBakshi @LawrenceSellin @Dhru...</td>\n",
              "      <td>@TimesNow @GeneralBakshi @LawrenceSellin @Dhru...</td>\n",
              "      <td>NaN</td>\n",
              "      <td>NaN</td>\n",
              "    </tr>\n",
              "  </tbody>\n",
              "</table>\n",
              "<p>36559 rows × 5 columns</p>\n",
              "</div>\n",
              "      <button class=\"colab-df-convert\" onclick=\"convertToInteractive('df-8c390997-b0cd-4029-8adf-f31cf2e2a91d')\"\n",
              "              title=\"Convert this dataframe to an interactive table.\"\n",
              "              style=\"display:none;\">\n",
              "        \n",
              "  <svg xmlns=\"http://www.w3.org/2000/svg\" height=\"24px\"viewBox=\"0 0 24 24\"\n",
              "       width=\"24px\">\n",
              "    <path d=\"M0 0h24v24H0V0z\" fill=\"none\"/>\n",
              "    <path d=\"M18.56 5.44l.94 2.06.94-2.06 2.06-.94-2.06-.94-.94-2.06-.94 2.06-2.06.94zm-11 1L8.5 8.5l.94-2.06 2.06-.94-2.06-.94L8.5 2.5l-.94 2.06-2.06.94zm10 10l.94 2.06.94-2.06 2.06-.94-2.06-.94-.94-2.06-.94 2.06-2.06.94z\"/><path d=\"M17.41 7.96l-1.37-1.37c-.4-.4-.92-.59-1.43-.59-.52 0-1.04.2-1.43.59L10.3 9.45l-7.72 7.72c-.78.78-.78 2.05 0 2.83L4 21.41c.39.39.9.59 1.41.59.51 0 1.02-.2 1.41-.59l7.78-7.78 2.81-2.81c.8-.78.8-2.07 0-2.86zM5.41 20L4 18.59l7.72-7.72 1.47 1.35L5.41 20z\"/>\n",
              "  </svg>\n",
              "      </button>\n",
              "      \n",
              "  <style>\n",
              "    .colab-df-container {\n",
              "      display:flex;\n",
              "      flex-wrap:wrap;\n",
              "      gap: 12px;\n",
              "    }\n",
              "\n",
              "    .colab-df-convert {\n",
              "      background-color: #E8F0FE;\n",
              "      border: none;\n",
              "      border-radius: 50%;\n",
              "      cursor: pointer;\n",
              "      display: none;\n",
              "      fill: #1967D2;\n",
              "      height: 32px;\n",
              "      padding: 0 0 0 0;\n",
              "      width: 32px;\n",
              "    }\n",
              "\n",
              "    .colab-df-convert:hover {\n",
              "      background-color: #E2EBFA;\n",
              "      box-shadow: 0px 1px 2px rgba(60, 64, 67, 0.3), 0px 1px 3px 1px rgba(60, 64, 67, 0.15);\n",
              "      fill: #174EA6;\n",
              "    }\n",
              "\n",
              "    [theme=dark] .colab-df-convert {\n",
              "      background-color: #3B4455;\n",
              "      fill: #D2E3FC;\n",
              "    }\n",
              "\n",
              "    [theme=dark] .colab-df-convert:hover {\n",
              "      background-color: #434B5C;\n",
              "      box-shadow: 0px 1px 3px 1px rgba(0, 0, 0, 0.15);\n",
              "      filter: drop-shadow(0px 1px 2px rgba(0, 0, 0, 0.3));\n",
              "      fill: #FFFFFF;\n",
              "    }\n",
              "  </style>\n",
              "\n",
              "      <script>\n",
              "        const buttonEl =\n",
              "          document.querySelector('#df-8c390997-b0cd-4029-8adf-f31cf2e2a91d button.colab-df-convert');\n",
              "        buttonEl.style.display =\n",
              "          google.colab.kernel.accessAllowed ? 'block' : 'none';\n",
              "\n",
              "        async function convertToInteractive(key) {\n",
              "          const element = document.querySelector('#df-8c390997-b0cd-4029-8adf-f31cf2e2a91d');\n",
              "          const dataTable =\n",
              "            await google.colab.kernel.invokeFunction('convertToInteractive',\n",
              "                                                     [key], {});\n",
              "          if (!dataTable) return;\n",
              "\n",
              "          const docLinkHtml = 'Like what you see? Visit the ' +\n",
              "            '<a target=\"_blank\" href=https://colab.research.google.com/notebooks/data_table.ipynb>data table notebook</a>'\n",
              "            + ' to learn more about interactive tables.';\n",
              "          element.innerHTML = '';\n",
              "          dataTable['output_type'] = 'display_data';\n",
              "          await google.colab.output.renderOutput(dataTable, element);\n",
              "          const docLink = document.createElement('div');\n",
              "          docLink.innerHTML = docLinkHtml;\n",
              "          element.appendChild(docLink);\n",
              "        }\n",
              "      </script>\n",
              "    </div>\n",
              "  </div>\n",
              "  "
            ]
          },
          "metadata": {},
          "execution_count": 4
        }
      ]
    },
    {
      "cell_type": "code",
      "execution_count": 7,
      "metadata": {
        "id": "njoInRgIcY5V",
        "colab": {
          "base_uri": "https://localhost:8080/"
        },
        "outputId": "cc5af769-5a1f-4362-f87f-341b2f422ebe"
      },
      "outputs": [
        {
          "output_type": "execute_result",
          "data": {
            "text/plain": [
              "(264, 5)"
            ]
          },
          "metadata": {},
          "execution_count": 7
        }
      ],
      "source": [
        "afghan =afghan[afghan[\"renderedContent\"].str.contains('immigr', regex=True, na=False)]\n",
        "afghan.shape"
      ]
    },
    {
      "cell_type": "code",
      "execution_count": 8,
      "metadata": {
        "id": "S9rustB0b6Tk"
      },
      "outputs": [],
      "source": [
        "afghan[\"clean_tweet\"] = afghan[\"renderedContent\"].apply(text_clean)\n",
        "afghan = afghan.drop_duplicates(subset=['clean_tweet'])\n"
      ]
    },
    {
      "cell_type": "code",
      "source": [
        "afghan[[\"renderedContent\",\"clean_tweet\"]]"
      ],
      "metadata": {
        "colab": {
          "base_uri": "https://localhost:8080/",
          "height": 1350
        },
        "id": "O6VD-MVu1nYZ",
        "outputId": "e949f1de-4c00-4dfc-8591-4840affea42c"
      },
      "execution_count": 9,
      "outputs": [
        {
          "output_type": "execute_result",
          "data": {
            "text/plain": [
              "                                         renderedContent  \\\n",
              "162    @Tequila06209973 And they bring these immigran...   \n",
              "206    @Brexit011 @sarahisitme @JonnieIlly @EU_NO_MOR...   \n",
              "339    If you haven't yet, please see our resource pa...   \n",
              "508    @tedcruz If the other guy was here the country...   \n",
              "1575   These Afghanistan immigrants are nothing more ...   \n",
              "...                                                  ...   \n",
              "86566  One #Arizona sheriff sees too many similaritie...   \n",
              "86988  Latest IRCC figures on Afghanistan:\\n-3,000+ e...   \n",
              "87023  The US has admitted \"just over 40,000\" evacuee...   \n",
              "87084  How many American jobs will go to illegal immi...   \n",
              "87389  His plan to fight delta variant… Open the bord...   \n",
              "\n",
              "                                             clean_tweet  \n",
              "162    bring immigr afghanistan across southern borde...  \n",
              "206    well bori current spend billion afghanistan il...  \n",
              "339    haven plea resourc page websit ongo afghanista...  \n",
              "508    countri wouldn fuck wouldn cost gallon regular...  \n",
              "1575   afghanistan immigr noth entir welfar class wil...  \n",
              "...                                                  ...  \n",
              "86566  arizona sheriff see mani similar immigr polici...  \n",
              "86988  latest ircc figur afghanistan evacue arriv can...  \n",
              "87023  admit evacue afghanistan includ citizen law pe...  \n",
              "87084  mani american job will illeg immigr afghanista...  \n",
              "87389  plan fight delta variant open border flood mos...  \n",
              "\n",
              "[253 rows x 2 columns]"
            ],
            "text/html": [
              "\n",
              "  <div id=\"df-662bbf79-45f9-41f7-8235-11071f2ce425\">\n",
              "    <div class=\"colab-df-container\">\n",
              "      <div>\n",
              "<style scoped>\n",
              "    .dataframe tbody tr th:only-of-type {\n",
              "        vertical-align: middle;\n",
              "    }\n",
              "\n",
              "    .dataframe tbody tr th {\n",
              "        vertical-align: top;\n",
              "    }\n",
              "\n",
              "    .dataframe thead th {\n",
              "        text-align: right;\n",
              "    }\n",
              "</style>\n",
              "<table border=\"1\" class=\"dataframe\">\n",
              "  <thead>\n",
              "    <tr style=\"text-align: right;\">\n",
              "      <th></th>\n",
              "      <th>renderedContent</th>\n",
              "      <th>clean_tweet</th>\n",
              "    </tr>\n",
              "  </thead>\n",
              "  <tbody>\n",
              "    <tr>\n",
              "      <th>162</th>\n",
              "      <td>@Tequila06209973 And they bring these immigran...</td>\n",
              "      <td>bring immigr afghanistan across southern borde...</td>\n",
              "    </tr>\n",
              "    <tr>\n",
              "      <th>206</th>\n",
              "      <td>@Brexit011 @sarahisitme @JonnieIlly @EU_NO_MOR...</td>\n",
              "      <td>well bori current spend billion afghanistan il...</td>\n",
              "    </tr>\n",
              "    <tr>\n",
              "      <th>339</th>\n",
              "      <td>If you haven't yet, please see our resource pa...</td>\n",
              "      <td>haven plea resourc page websit ongo afghanista...</td>\n",
              "    </tr>\n",
              "    <tr>\n",
              "      <th>508</th>\n",
              "      <td>@tedcruz If the other guy was here the country...</td>\n",
              "      <td>countri wouldn fuck wouldn cost gallon regular...</td>\n",
              "    </tr>\n",
              "    <tr>\n",
              "      <th>1575</th>\n",
              "      <td>These Afghanistan immigrants are nothing more ...</td>\n",
              "      <td>afghanistan immigr noth entir welfar class wil...</td>\n",
              "    </tr>\n",
              "    <tr>\n",
              "      <th>...</th>\n",
              "      <td>...</td>\n",
              "      <td>...</td>\n",
              "    </tr>\n",
              "    <tr>\n",
              "      <th>86566</th>\n",
              "      <td>One #Arizona sheriff sees too many similaritie...</td>\n",
              "      <td>arizona sheriff see mani similar immigr polici...</td>\n",
              "    </tr>\n",
              "    <tr>\n",
              "      <th>86988</th>\n",
              "      <td>Latest IRCC figures on Afghanistan:\\n-3,000+ e...</td>\n",
              "      <td>latest ircc figur afghanistan evacue arriv can...</td>\n",
              "    </tr>\n",
              "    <tr>\n",
              "      <th>87023</th>\n",
              "      <td>The US has admitted \"just over 40,000\" evacuee...</td>\n",
              "      <td>admit evacue afghanistan includ citizen law pe...</td>\n",
              "    </tr>\n",
              "    <tr>\n",
              "      <th>87084</th>\n",
              "      <td>How many American jobs will go to illegal immi...</td>\n",
              "      <td>mani american job will illeg immigr afghanista...</td>\n",
              "    </tr>\n",
              "    <tr>\n",
              "      <th>87389</th>\n",
              "      <td>His plan to fight delta variant… Open the bord...</td>\n",
              "      <td>plan fight delta variant open border flood mos...</td>\n",
              "    </tr>\n",
              "  </tbody>\n",
              "</table>\n",
              "<p>253 rows × 2 columns</p>\n",
              "</div>\n",
              "      <button class=\"colab-df-convert\" onclick=\"convertToInteractive('df-662bbf79-45f9-41f7-8235-11071f2ce425')\"\n",
              "              title=\"Convert this dataframe to an interactive table.\"\n",
              "              style=\"display:none;\">\n",
              "        \n",
              "  <svg xmlns=\"http://www.w3.org/2000/svg\" height=\"24px\"viewBox=\"0 0 24 24\"\n",
              "       width=\"24px\">\n",
              "    <path d=\"M0 0h24v24H0V0z\" fill=\"none\"/>\n",
              "    <path d=\"M18.56 5.44l.94 2.06.94-2.06 2.06-.94-2.06-.94-.94-2.06-.94 2.06-2.06.94zm-11 1L8.5 8.5l.94-2.06 2.06-.94-2.06-.94L8.5 2.5l-.94 2.06-2.06.94zm10 10l.94 2.06.94-2.06 2.06-.94-2.06-.94-.94-2.06-.94 2.06-2.06.94z\"/><path d=\"M17.41 7.96l-1.37-1.37c-.4-.4-.92-.59-1.43-.59-.52 0-1.04.2-1.43.59L10.3 9.45l-7.72 7.72c-.78.78-.78 2.05 0 2.83L4 21.41c.39.39.9.59 1.41.59.51 0 1.02-.2 1.41-.59l7.78-7.78 2.81-2.81c.8-.78.8-2.07 0-2.86zM5.41 20L4 18.59l7.72-7.72 1.47 1.35L5.41 20z\"/>\n",
              "  </svg>\n",
              "      </button>\n",
              "      \n",
              "  <style>\n",
              "    .colab-df-container {\n",
              "      display:flex;\n",
              "      flex-wrap:wrap;\n",
              "      gap: 12px;\n",
              "    }\n",
              "\n",
              "    .colab-df-convert {\n",
              "      background-color: #E8F0FE;\n",
              "      border: none;\n",
              "      border-radius: 50%;\n",
              "      cursor: pointer;\n",
              "      display: none;\n",
              "      fill: #1967D2;\n",
              "      height: 32px;\n",
              "      padding: 0 0 0 0;\n",
              "      width: 32px;\n",
              "    }\n",
              "\n",
              "    .colab-df-convert:hover {\n",
              "      background-color: #E2EBFA;\n",
              "      box-shadow: 0px 1px 2px rgba(60, 64, 67, 0.3), 0px 1px 3px 1px rgba(60, 64, 67, 0.15);\n",
              "      fill: #174EA6;\n",
              "    }\n",
              "\n",
              "    [theme=dark] .colab-df-convert {\n",
              "      background-color: #3B4455;\n",
              "      fill: #D2E3FC;\n",
              "    }\n",
              "\n",
              "    [theme=dark] .colab-df-convert:hover {\n",
              "      background-color: #434B5C;\n",
              "      box-shadow: 0px 1px 3px 1px rgba(0, 0, 0, 0.15);\n",
              "      filter: drop-shadow(0px 1px 2px rgba(0, 0, 0, 0.3));\n",
              "      fill: #FFFFFF;\n",
              "    }\n",
              "  </style>\n",
              "\n",
              "      <script>\n",
              "        const buttonEl =\n",
              "          document.querySelector('#df-662bbf79-45f9-41f7-8235-11071f2ce425 button.colab-df-convert');\n",
              "        buttonEl.style.display =\n",
              "          google.colab.kernel.accessAllowed ? 'block' : 'none';\n",
              "\n",
              "        async function convertToInteractive(key) {\n",
              "          const element = document.querySelector('#df-662bbf79-45f9-41f7-8235-11071f2ce425');\n",
              "          const dataTable =\n",
              "            await google.colab.kernel.invokeFunction('convertToInteractive',\n",
              "                                                     [key], {});\n",
              "          if (!dataTable) return;\n",
              "\n",
              "          const docLinkHtml = 'Like what you see? Visit the ' +\n",
              "            '<a target=\"_blank\" href=https://colab.research.google.com/notebooks/data_table.ipynb>data table notebook</a>'\n",
              "            + ' to learn more about interactive tables.';\n",
              "          element.innerHTML = '';\n",
              "          dataTable['output_type'] = 'display_data';\n",
              "          await google.colab.output.renderOutput(dataTable, element);\n",
              "          const docLink = document.createElement('div');\n",
              "          docLink.innerHTML = docLinkHtml;\n",
              "          element.appendChild(docLink);\n",
              "        }\n",
              "      </script>\n",
              "    </div>\n",
              "  </div>\n",
              "  "
            ]
          },
          "metadata": {},
          "execution_count": 9
        }
      ]
    },
    {
      "cell_type": "code",
      "source": [
        "taliban = pd.read_csv(\"taliban.csv\")\n",
        "taliban"
      ],
      "metadata": {
        "id": "Rg6UZn51ORHR"
      },
      "execution_count": null,
      "outputs": []
    },
    {
      "cell_type": "code",
      "source": [
        "taliban[\"clean_tweet\"] = taliban[\"renderedContent\"].apply(text_clean)\n",
        "taliban = taliban.drop_duplicates(subset=['clean_tweet'])\n",
        "taliban"
      ],
      "metadata": {
        "colab": {
          "base_uri": "https://localhost:8080/",
          "height": 641
        },
        "id": "RmIXgxE2OiPn",
        "outputId": "d172d742-a81d-4c8a-e93b-00fc503c21e2"
      },
      "execution_count": 37,
      "outputs": [
        {
          "output_type": "execute_result",
          "data": {
            "text/plain": [
              "                           date  \\\n",
              "0     2021-09-21 23:59:54+00:00   \n",
              "1     2021-09-21 23:59:44+00:00   \n",
              "2     2021-09-21 23:59:18+00:00   \n",
              "3     2021-09-21 23:58:49+00:00   \n",
              "4     2021-09-21 23:58:43+00:00   \n",
              "...                         ...   \n",
              "4474  2021-09-21 17:00:50+00:00   \n",
              "4476  2021-09-21 17:00:49+00:00   \n",
              "4478  2021-09-21 17:00:49+00:00   \n",
              "4479  2021-09-21 17:00:49+00:00   \n",
              "4480  2021-09-21 17:00:48+00:00   \n",
              "\n",
              "                                             rawContent  \\\n",
              "0     @peakcapitolism and the liberals have been muc...   \n",
              "1     @cuttinchief @SS2_spacewrench @CNN America has...   \n",
              "2     Bruh Tony really called his side chick a refug...   \n",
              "3     @leahmcelrath Yes, it’s our presidents @JoeBid...   \n",
              "4     @RepFitzgerald When will Republicans take Covi...   \n",
              "...                                                 ...   \n",
              "4474  A diverse coalition will continue to engage co...   \n",
              "4476  A diverse coalition will continue to engage co...   \n",
              "4478  A diverse coalition will continue to engage co...   \n",
              "4479  A diverse coalition will continue to engage co...   \n",
              "4480  A diverse coalition will continue to engage co...   \n",
              "\n",
              "                                        renderedContent                   id  \\\n",
              "0     @peakcapitolism and the liberals have been muc...  1440465843662454790   \n",
              "1     @cuttinchief @SS2_spacewrench @CNN America has...  1440465801543225351   \n",
              "2     Bruh Tony really called his side chick a refug...  1440465692688478214   \n",
              "3     @leahmcelrath Yes, it’s our presidents @JoeBid...  1440465573318590466   \n",
              "4     @RepFitzgerald When will Republicans take Covi...  1440465546793742347   \n",
              "...                                                 ...                  ...   \n",
              "4474  A diverse coalition will continue to engage co...  1440360381524819977   \n",
              "4476  A diverse coalition will continue to engage co...  1440360379863891970   \n",
              "4478  A diverse coalition will continue to engage co...  1440360378618167304   \n",
              "4479  A diverse coalition will continue to engage co...  1440360377619943429   \n",
              "4480  A diverse coalition will continue to engage co...  1440360376353243152   \n",
              "\n",
              "     place                                        clean_tweet  \n",
              "0      NaN  liberals much better base building immigrant c...  \n",
              "1      NaN  america never best brightest always people wor...  \n",
              "2      NaN  bruh tony really called side chick refugee lma...  \n",
              "3      NaN  presidents border police teaching immigrants l...  \n",
              "4      NaN  will republicans take covid seriously butterba...  \n",
              "...    ...                                                ...  \n",
              "4474   NaN  diverse coalition will continue engage communi...  \n",
              "4476   NaN  diverse coalition will continue engage communi...  \n",
              "4478   NaN  diverse coalition will continue engage communi...  \n",
              "4479   NaN  diverse coalition will continue engage communi...  \n",
              "4480   NaN  diverse coalition will continue engage communi...  \n",
              "\n",
              "[4394 rows x 6 columns]"
            ],
            "text/html": [
              "\n",
              "  <div id=\"df-c69499e3-e88a-41b9-8212-3ce7b93c1f14\">\n",
              "    <div class=\"colab-df-container\">\n",
              "      <div>\n",
              "<style scoped>\n",
              "    .dataframe tbody tr th:only-of-type {\n",
              "        vertical-align: middle;\n",
              "    }\n",
              "\n",
              "    .dataframe tbody tr th {\n",
              "        vertical-align: top;\n",
              "    }\n",
              "\n",
              "    .dataframe thead th {\n",
              "        text-align: right;\n",
              "    }\n",
              "</style>\n",
              "<table border=\"1\" class=\"dataframe\">\n",
              "  <thead>\n",
              "    <tr style=\"text-align: right;\">\n",
              "      <th></th>\n",
              "      <th>date</th>\n",
              "      <th>rawContent</th>\n",
              "      <th>renderedContent</th>\n",
              "      <th>id</th>\n",
              "      <th>place</th>\n",
              "      <th>clean_tweet</th>\n",
              "    </tr>\n",
              "  </thead>\n",
              "  <tbody>\n",
              "    <tr>\n",
              "      <th>0</th>\n",
              "      <td>2021-09-21 23:59:54+00:00</td>\n",
              "      <td>@peakcapitolism and the liberals have been muc...</td>\n",
              "      <td>@peakcapitolism and the liberals have been muc...</td>\n",
              "      <td>1440465843662454790</td>\n",
              "      <td>NaN</td>\n",
              "      <td>liberals much better base building immigrant c...</td>\n",
              "    </tr>\n",
              "    <tr>\n",
              "      <th>1</th>\n",
              "      <td>2021-09-21 23:59:44+00:00</td>\n",
              "      <td>@cuttinchief @SS2_spacewrench @CNN America has...</td>\n",
              "      <td>@cuttinchief @SS2_spacewrench @CNN America has...</td>\n",
              "      <td>1440465801543225351</td>\n",
              "      <td>NaN</td>\n",
              "      <td>america never best brightest always people wor...</td>\n",
              "    </tr>\n",
              "    <tr>\n",
              "      <th>2</th>\n",
              "      <td>2021-09-21 23:59:18+00:00</td>\n",
              "      <td>Bruh Tony really called his side chick a refug...</td>\n",
              "      <td>Bruh Tony really called his side chick a refug...</td>\n",
              "      <td>1440465692688478214</td>\n",
              "      <td>NaN</td>\n",
              "      <td>bruh tony really called side chick refugee lma...</td>\n",
              "    </tr>\n",
              "    <tr>\n",
              "      <th>3</th>\n",
              "      <td>2021-09-21 23:58:49+00:00</td>\n",
              "      <td>@leahmcelrath Yes, it’s our presidents @JoeBid...</td>\n",
              "      <td>@leahmcelrath Yes, it’s our presidents @JoeBid...</td>\n",
              "      <td>1440465573318590466</td>\n",
              "      <td>NaN</td>\n",
              "      <td>presidents border police teaching immigrants l...</td>\n",
              "    </tr>\n",
              "    <tr>\n",
              "      <th>4</th>\n",
              "      <td>2021-09-21 23:58:43+00:00</td>\n",
              "      <td>@RepFitzgerald When will Republicans take Covi...</td>\n",
              "      <td>@RepFitzgerald When will Republicans take Covi...</td>\n",
              "      <td>1440465546793742347</td>\n",
              "      <td>NaN</td>\n",
              "      <td>will republicans take covid seriously butterba...</td>\n",
              "    </tr>\n",
              "    <tr>\n",
              "      <th>...</th>\n",
              "      <td>...</td>\n",
              "      <td>...</td>\n",
              "      <td>...</td>\n",
              "      <td>...</td>\n",
              "      <td>...</td>\n",
              "      <td>...</td>\n",
              "    </tr>\n",
              "    <tr>\n",
              "      <th>4474</th>\n",
              "      <td>2021-09-21 17:00:50+00:00</td>\n",
              "      <td>A diverse coalition will continue to engage co...</td>\n",
              "      <td>A diverse coalition will continue to engage co...</td>\n",
              "      <td>1440360381524819977</td>\n",
              "      <td>NaN</td>\n",
              "      <td>diverse coalition will continue engage communi...</td>\n",
              "    </tr>\n",
              "    <tr>\n",
              "      <th>4476</th>\n",
              "      <td>2021-09-21 17:00:49+00:00</td>\n",
              "      <td>A diverse coalition will continue to engage co...</td>\n",
              "      <td>A diverse coalition will continue to engage co...</td>\n",
              "      <td>1440360379863891970</td>\n",
              "      <td>NaN</td>\n",
              "      <td>diverse coalition will continue engage communi...</td>\n",
              "    </tr>\n",
              "    <tr>\n",
              "      <th>4478</th>\n",
              "      <td>2021-09-21 17:00:49+00:00</td>\n",
              "      <td>A diverse coalition will continue to engage co...</td>\n",
              "      <td>A diverse coalition will continue to engage co...</td>\n",
              "      <td>1440360378618167304</td>\n",
              "      <td>NaN</td>\n",
              "      <td>diverse coalition will continue engage communi...</td>\n",
              "    </tr>\n",
              "    <tr>\n",
              "      <th>4479</th>\n",
              "      <td>2021-09-21 17:00:49+00:00</td>\n",
              "      <td>A diverse coalition will continue to engage co...</td>\n",
              "      <td>A diverse coalition will continue to engage co...</td>\n",
              "      <td>1440360377619943429</td>\n",
              "      <td>NaN</td>\n",
              "      <td>diverse coalition will continue engage communi...</td>\n",
              "    </tr>\n",
              "    <tr>\n",
              "      <th>4480</th>\n",
              "      <td>2021-09-21 17:00:48+00:00</td>\n",
              "      <td>A diverse coalition will continue to engage co...</td>\n",
              "      <td>A diverse coalition will continue to engage co...</td>\n",
              "      <td>1440360376353243152</td>\n",
              "      <td>NaN</td>\n",
              "      <td>diverse coalition will continue engage communi...</td>\n",
              "    </tr>\n",
              "  </tbody>\n",
              "</table>\n",
              "<p>4394 rows × 6 columns</p>\n",
              "</div>\n",
              "      <button class=\"colab-df-convert\" onclick=\"convertToInteractive('df-c69499e3-e88a-41b9-8212-3ce7b93c1f14')\"\n",
              "              title=\"Convert this dataframe to an interactive table.\"\n",
              "              style=\"display:none;\">\n",
              "        \n",
              "  <svg xmlns=\"http://www.w3.org/2000/svg\" height=\"24px\"viewBox=\"0 0 24 24\"\n",
              "       width=\"24px\">\n",
              "    <path d=\"M0 0h24v24H0V0z\" fill=\"none\"/>\n",
              "    <path d=\"M18.56 5.44l.94 2.06.94-2.06 2.06-.94-2.06-.94-.94-2.06-.94 2.06-2.06.94zm-11 1L8.5 8.5l.94-2.06 2.06-.94-2.06-.94L8.5 2.5l-.94 2.06-2.06.94zm10 10l.94 2.06.94-2.06 2.06-.94-2.06-.94-.94-2.06-.94 2.06-2.06.94z\"/><path d=\"M17.41 7.96l-1.37-1.37c-.4-.4-.92-.59-1.43-.59-.52 0-1.04.2-1.43.59L10.3 9.45l-7.72 7.72c-.78.78-.78 2.05 0 2.83L4 21.41c.39.39.9.59 1.41.59.51 0 1.02-.2 1.41-.59l7.78-7.78 2.81-2.81c.8-.78.8-2.07 0-2.86zM5.41 20L4 18.59l7.72-7.72 1.47 1.35L5.41 20z\"/>\n",
              "  </svg>\n",
              "      </button>\n",
              "      \n",
              "  <style>\n",
              "    .colab-df-container {\n",
              "      display:flex;\n",
              "      flex-wrap:wrap;\n",
              "      gap: 12px;\n",
              "    }\n",
              "\n",
              "    .colab-df-convert {\n",
              "      background-color: #E8F0FE;\n",
              "      border: none;\n",
              "      border-radius: 50%;\n",
              "      cursor: pointer;\n",
              "      display: none;\n",
              "      fill: #1967D2;\n",
              "      height: 32px;\n",
              "      padding: 0 0 0 0;\n",
              "      width: 32px;\n",
              "    }\n",
              "\n",
              "    .colab-df-convert:hover {\n",
              "      background-color: #E2EBFA;\n",
              "      box-shadow: 0px 1px 2px rgba(60, 64, 67, 0.3), 0px 1px 3px 1px rgba(60, 64, 67, 0.15);\n",
              "      fill: #174EA6;\n",
              "    }\n",
              "\n",
              "    [theme=dark] .colab-df-convert {\n",
              "      background-color: #3B4455;\n",
              "      fill: #D2E3FC;\n",
              "    }\n",
              "\n",
              "    [theme=dark] .colab-df-convert:hover {\n",
              "      background-color: #434B5C;\n",
              "      box-shadow: 0px 1px 3px 1px rgba(0, 0, 0, 0.15);\n",
              "      filter: drop-shadow(0px 1px 2px rgba(0, 0, 0, 0.3));\n",
              "      fill: #FFFFFF;\n",
              "    }\n",
              "  </style>\n",
              "\n",
              "      <script>\n",
              "        const buttonEl =\n",
              "          document.querySelector('#df-c69499e3-e88a-41b9-8212-3ce7b93c1f14 button.colab-df-convert');\n",
              "        buttonEl.style.display =\n",
              "          google.colab.kernel.accessAllowed ? 'block' : 'none';\n",
              "\n",
              "        async function convertToInteractive(key) {\n",
              "          const element = document.querySelector('#df-c69499e3-e88a-41b9-8212-3ce7b93c1f14');\n",
              "          const dataTable =\n",
              "            await google.colab.kernel.invokeFunction('convertToInteractive',\n",
              "                                                     [key], {});\n",
              "          if (!dataTable) return;\n",
              "\n",
              "          const docLinkHtml = 'Like what you see? Visit the ' +\n",
              "            '<a target=\"_blank\" href=https://colab.research.google.com/notebooks/data_table.ipynb>data table notebook</a>'\n",
              "            + ' to learn more about interactive tables.';\n",
              "          element.innerHTML = '';\n",
              "          dataTable['output_type'] = 'display_data';\n",
              "          await google.colab.output.renderOutput(dataTable, element);\n",
              "          const docLink = document.createElement('div');\n",
              "          docLink.innerHTML = docLinkHtml;\n",
              "          element.appendChild(docLink);\n",
              "        }\n",
              "      </script>\n",
              "    </div>\n",
              "  </div>\n",
              "  "
            ]
          },
          "metadata": {},
          "execution_count": 37
        }
      ]
    },
    {
      "cell_type": "code",
      "source": [
        "frame=[afghan,taliban]\n",
        "#frame=[df_twitter,df_labeled_data]\n",
        "\n",
        "afghan = pd.concat(frame)\n",
        "afghan"
      ],
      "metadata": {
        "colab": {
          "base_uri": "https://localhost:8080/",
          "height": 641
        },
        "id": "qOQ8xU8uPBW2",
        "outputId": "37779b6d-0f44-4b25-8018-ce9109c52358"
      },
      "execution_count": 31,
      "outputs": [
        {
          "output_type": "execute_result",
          "data": {
            "text/plain": [
              "                           date  \\\n",
              "162   2021-09-04 23:52:31+00:00   \n",
              "206   2021-09-04 23:50:10+00:00   \n",
              "339   2021-09-04 23:45:03+00:00   \n",
              "508   2021-09-04 23:38:39+00:00   \n",
              "1575  2021-09-04 23:00:13+00:00   \n",
              "...                         ...   \n",
              "117   2021-09-25 01:59:41+00:00   \n",
              "118   2021-09-25 00:30:23+00:00   \n",
              "119   2021-09-25 00:25:22+00:00   \n",
              "120   2021-09-24 23:57:14+00:00   \n",
              "121   2021-09-24 22:54:05+00:00   \n",
              "\n",
              "                                             rawContent  \\\n",
              "162   @Tequila06209973 And they bring these immigran...   \n",
              "206   @Brexit011 @sarahisitme @JonnieIlly @EU_NO_MOR...   \n",
              "339   If you haven't yet, please see our resource pa...   \n",
              "508   @tedcruz If the other guy was here the country...   \n",
              "1575  These Afghanistan immigrants are nothing more ...   \n",
              "...                                                 ...   \n",
              "117   We could literally stop paying Israel and the ...   \n",
              "118   Yea @kayleighmcenany about that deal Trump mad...   \n",
              "119   @danielson2047 @MattsBanjo @MattWalshBlog But ...   \n",
              "120   @919_nerd @MarloJack21 @disclosetv I should be...   \n",
              "121   @nycsouthpaw Taliban Joe is a disgrace to Amer...   \n",
              "\n",
              "                                        renderedContent                   id  \\\n",
              "162   @Tequila06209973 And they bring these immigran...  1434303393976172544   \n",
              "206   @Brexit011 @sarahisitme @JonnieIlly @EU_NO_MOR...  1434302801203638273   \n",
              "339   If you haven't yet, please see our resource pa...  1434301511559942144   \n",
              "508   @tedcruz If the other guy was here the country...  1434299900943118339   \n",
              "1575  These Afghanistan immigrants are nothing more ...  1434290229985304577   \n",
              "...                                                 ...                  ...   \n",
              "117   We could literally stop paying Israel and the ...  1441583152242233346   \n",
              "118   Yea @kayleighmcenany about that deal Trump mad...  1441560681279418373   \n",
              "119   @danielson2047 @MattsBanjo @MattWalshBlog But ...  1441559418055770114   \n",
              "120   @919_nerd @MarloJack21 @disclosetv I should be...  1441552335491137540   \n",
              "121   @nycsouthpaw Taliban Joe is a disgrace to Amer...  1441536442866536455   \n",
              "\n",
              "     place                                        clean_tweet  \n",
              "162    NaN  bring immigrants afghanistan across southern b...  \n",
              "206    NaN  well boris currently spending billions afghani...  \n",
              "339    NaN  haven yet please see resource page website ong...  \n",
              "508    NaN  guy country wouldn fucked now gas wouldn cost ...  \n",
              "1575   NaN  afghanistan immigrants nothing entire welfare ...  \n",
              "...    ...                                                ...  \n",
              "117    NaN  literally stop paying israel taliban straight ...  \n",
              "118    NaN  yea deal trump made taliban terrorists simulta...  \n",
              "119    NaN  anti immigrant women freedom sexual anti lgbtq...  \n",
              "120    NaN  asking question usa fucked economy verge colla...  \n",
              "121    NaN  taliban joe disgrace america home town scranto...  \n",
              "\n",
              "[366 rows x 6 columns]"
            ],
            "text/html": [
              "\n",
              "  <div id=\"df-ef3b8327-ffdd-49cc-8f71-7f8397bf850a\">\n",
              "    <div class=\"colab-df-container\">\n",
              "      <div>\n",
              "<style scoped>\n",
              "    .dataframe tbody tr th:only-of-type {\n",
              "        vertical-align: middle;\n",
              "    }\n",
              "\n",
              "    .dataframe tbody tr th {\n",
              "        vertical-align: top;\n",
              "    }\n",
              "\n",
              "    .dataframe thead th {\n",
              "        text-align: right;\n",
              "    }\n",
              "</style>\n",
              "<table border=\"1\" class=\"dataframe\">\n",
              "  <thead>\n",
              "    <tr style=\"text-align: right;\">\n",
              "      <th></th>\n",
              "      <th>date</th>\n",
              "      <th>rawContent</th>\n",
              "      <th>renderedContent</th>\n",
              "      <th>id</th>\n",
              "      <th>place</th>\n",
              "      <th>clean_tweet</th>\n",
              "    </tr>\n",
              "  </thead>\n",
              "  <tbody>\n",
              "    <tr>\n",
              "      <th>162</th>\n",
              "      <td>2021-09-04 23:52:31+00:00</td>\n",
              "      <td>@Tequila06209973 And they bring these immigran...</td>\n",
              "      <td>@Tequila06209973 And they bring these immigran...</td>\n",
              "      <td>1434303393976172544</td>\n",
              "      <td>NaN</td>\n",
              "      <td>bring immigrants afghanistan across southern b...</td>\n",
              "    </tr>\n",
              "    <tr>\n",
              "      <th>206</th>\n",
              "      <td>2021-09-04 23:50:10+00:00</td>\n",
              "      <td>@Brexit011 @sarahisitme @JonnieIlly @EU_NO_MOR...</td>\n",
              "      <td>@Brexit011 @sarahisitme @JonnieIlly @EU_NO_MOR...</td>\n",
              "      <td>1434302801203638273</td>\n",
              "      <td>NaN</td>\n",
              "      <td>well boris currently spending billions afghani...</td>\n",
              "    </tr>\n",
              "    <tr>\n",
              "      <th>339</th>\n",
              "      <td>2021-09-04 23:45:03+00:00</td>\n",
              "      <td>If you haven't yet, please see our resource pa...</td>\n",
              "      <td>If you haven't yet, please see our resource pa...</td>\n",
              "      <td>1434301511559942144</td>\n",
              "      <td>NaN</td>\n",
              "      <td>haven yet please see resource page website ong...</td>\n",
              "    </tr>\n",
              "    <tr>\n",
              "      <th>508</th>\n",
              "      <td>2021-09-04 23:38:39+00:00</td>\n",
              "      <td>@tedcruz If the other guy was here the country...</td>\n",
              "      <td>@tedcruz If the other guy was here the country...</td>\n",
              "      <td>1434299900943118339</td>\n",
              "      <td>NaN</td>\n",
              "      <td>guy country wouldn fucked now gas wouldn cost ...</td>\n",
              "    </tr>\n",
              "    <tr>\n",
              "      <th>1575</th>\n",
              "      <td>2021-09-04 23:00:13+00:00</td>\n",
              "      <td>These Afghanistan immigrants are nothing more ...</td>\n",
              "      <td>These Afghanistan immigrants are nothing more ...</td>\n",
              "      <td>1434290229985304577</td>\n",
              "      <td>NaN</td>\n",
              "      <td>afghanistan immigrants nothing entire welfare ...</td>\n",
              "    </tr>\n",
              "    <tr>\n",
              "      <th>...</th>\n",
              "      <td>...</td>\n",
              "      <td>...</td>\n",
              "      <td>...</td>\n",
              "      <td>...</td>\n",
              "      <td>...</td>\n",
              "      <td>...</td>\n",
              "    </tr>\n",
              "    <tr>\n",
              "      <th>117</th>\n",
              "      <td>2021-09-25 01:59:41+00:00</td>\n",
              "      <td>We could literally stop paying Israel and the ...</td>\n",
              "      <td>We could literally stop paying Israel and the ...</td>\n",
              "      <td>1441583152242233346</td>\n",
              "      <td>NaN</td>\n",
              "      <td>literally stop paying israel taliban straight ...</td>\n",
              "    </tr>\n",
              "    <tr>\n",
              "      <th>118</th>\n",
              "      <td>2021-09-25 00:30:23+00:00</td>\n",
              "      <td>Yea @kayleighmcenany about that deal Trump mad...</td>\n",
              "      <td>Yea @kayleighmcenany about that deal Trump mad...</td>\n",
              "      <td>1441560681279418373</td>\n",
              "      <td>NaN</td>\n",
              "      <td>yea deal trump made taliban terrorists simulta...</td>\n",
              "    </tr>\n",
              "    <tr>\n",
              "      <th>119</th>\n",
              "      <td>2021-09-25 00:25:22+00:00</td>\n",
              "      <td>@danielson2047 @MattsBanjo @MattWalshBlog But ...</td>\n",
              "      <td>@danielson2047 @MattsBanjo @MattWalshBlog But ...</td>\n",
              "      <td>1441559418055770114</td>\n",
              "      <td>NaN</td>\n",
              "      <td>anti immigrant women freedom sexual anti lgbtq...</td>\n",
              "    </tr>\n",
              "    <tr>\n",
              "      <th>120</th>\n",
              "      <td>2021-09-24 23:57:14+00:00</td>\n",
              "      <td>@919_nerd @MarloJack21 @disclosetv I should be...</td>\n",
              "      <td>@919_nerd @MarloJack21 @disclosetv I should be...</td>\n",
              "      <td>1441552335491137540</td>\n",
              "      <td>NaN</td>\n",
              "      <td>asking question usa fucked economy verge colla...</td>\n",
              "    </tr>\n",
              "    <tr>\n",
              "      <th>121</th>\n",
              "      <td>2021-09-24 22:54:05+00:00</td>\n",
              "      <td>@nycsouthpaw Taliban Joe is a disgrace to Amer...</td>\n",
              "      <td>@nycsouthpaw Taliban Joe is a disgrace to Amer...</td>\n",
              "      <td>1441536442866536455</td>\n",
              "      <td>NaN</td>\n",
              "      <td>taliban joe disgrace america home town scranto...</td>\n",
              "    </tr>\n",
              "  </tbody>\n",
              "</table>\n",
              "<p>366 rows × 6 columns</p>\n",
              "</div>\n",
              "      <button class=\"colab-df-convert\" onclick=\"convertToInteractive('df-ef3b8327-ffdd-49cc-8f71-7f8397bf850a')\"\n",
              "              title=\"Convert this dataframe to an interactive table.\"\n",
              "              style=\"display:none;\">\n",
              "        \n",
              "  <svg xmlns=\"http://www.w3.org/2000/svg\" height=\"24px\"viewBox=\"0 0 24 24\"\n",
              "       width=\"24px\">\n",
              "    <path d=\"M0 0h24v24H0V0z\" fill=\"none\"/>\n",
              "    <path d=\"M18.56 5.44l.94 2.06.94-2.06 2.06-.94-2.06-.94-.94-2.06-.94 2.06-2.06.94zm-11 1L8.5 8.5l.94-2.06 2.06-.94-2.06-.94L8.5 2.5l-.94 2.06-2.06.94zm10 10l.94 2.06.94-2.06 2.06-.94-2.06-.94-.94-2.06-.94 2.06-2.06.94z\"/><path d=\"M17.41 7.96l-1.37-1.37c-.4-.4-.92-.59-1.43-.59-.52 0-1.04.2-1.43.59L10.3 9.45l-7.72 7.72c-.78.78-.78 2.05 0 2.83L4 21.41c.39.39.9.59 1.41.59.51 0 1.02-.2 1.41-.59l7.78-7.78 2.81-2.81c.8-.78.8-2.07 0-2.86zM5.41 20L4 18.59l7.72-7.72 1.47 1.35L5.41 20z\"/>\n",
              "  </svg>\n",
              "      </button>\n",
              "      \n",
              "  <style>\n",
              "    .colab-df-container {\n",
              "      display:flex;\n",
              "      flex-wrap:wrap;\n",
              "      gap: 12px;\n",
              "    }\n",
              "\n",
              "    .colab-df-convert {\n",
              "      background-color: #E8F0FE;\n",
              "      border: none;\n",
              "      border-radius: 50%;\n",
              "      cursor: pointer;\n",
              "      display: none;\n",
              "      fill: #1967D2;\n",
              "      height: 32px;\n",
              "      padding: 0 0 0 0;\n",
              "      width: 32px;\n",
              "    }\n",
              "\n",
              "    .colab-df-convert:hover {\n",
              "      background-color: #E2EBFA;\n",
              "      box-shadow: 0px 1px 2px rgba(60, 64, 67, 0.3), 0px 1px 3px 1px rgba(60, 64, 67, 0.15);\n",
              "      fill: #174EA6;\n",
              "    }\n",
              "\n",
              "    [theme=dark] .colab-df-convert {\n",
              "      background-color: #3B4455;\n",
              "      fill: #D2E3FC;\n",
              "    }\n",
              "\n",
              "    [theme=dark] .colab-df-convert:hover {\n",
              "      background-color: #434B5C;\n",
              "      box-shadow: 0px 1px 3px 1px rgba(0, 0, 0, 0.15);\n",
              "      filter: drop-shadow(0px 1px 2px rgba(0, 0, 0, 0.3));\n",
              "      fill: #FFFFFF;\n",
              "    }\n",
              "  </style>\n",
              "\n",
              "      <script>\n",
              "        const buttonEl =\n",
              "          document.querySelector('#df-ef3b8327-ffdd-49cc-8f71-7f8397bf850a button.colab-df-convert');\n",
              "        buttonEl.style.display =\n",
              "          google.colab.kernel.accessAllowed ? 'block' : 'none';\n",
              "\n",
              "        async function convertToInteractive(key) {\n",
              "          const element = document.querySelector('#df-ef3b8327-ffdd-49cc-8f71-7f8397bf850a');\n",
              "          const dataTable =\n",
              "            await google.colab.kernel.invokeFunction('convertToInteractive',\n",
              "                                                     [key], {});\n",
              "          if (!dataTable) return;\n",
              "\n",
              "          const docLinkHtml = 'Like what you see? Visit the ' +\n",
              "            '<a target=\"_blank\" href=https://colab.research.google.com/notebooks/data_table.ipynb>data table notebook</a>'\n",
              "            + ' to learn more about interactive tables.';\n",
              "          element.innerHTML = '';\n",
              "          dataTable['output_type'] = 'display_data';\n",
              "          await google.colab.output.renderOutput(dataTable, element);\n",
              "          const docLink = document.createElement('div');\n",
              "          docLink.innerHTML = docLinkHtml;\n",
              "          element.appendChild(docLink);\n",
              "        }\n",
              "      </script>\n",
              "    </div>\n",
              "  </div>\n",
              "  "
            ]
          },
          "metadata": {},
          "execution_count": 31
        }
      ]
    },
    {
      "cell_type": "code",
      "execution_count": null,
      "metadata": {
        "id": "M4ih9D-zvexH"
      },
      "outputs": [],
      "source": [
        "imig_feb= df_feb_trim[df_feb_trim[\"text\"].str.contains('immig', regex=True, na=False)]\n",
        "#df_feb_trim[df_feb_trim[\"text\"].filter(regex='(na|ne)', axis=0)]\n",
        "imig_feb = imig.drop_duplicates(subset=['text'])"
      ]
    },
    {
      "cell_type": "code",
      "source": [
        "imig_feb[\"cleaned_text\"] = imig_feb[\"text\"].apply(text_clean)"
      ],
      "metadata": {
        "id": "6whrmRBt1g9Q"
      },
      "execution_count": null,
      "outputs": []
    }
  ],
  "metadata": {
    "accelerator": "GPU",
    "colab": {
      "collapsed_sections": [],
      "provenance": []
    },
    "gpuClass": "standard",
    "kernelspec": {
      "display_name": "Python 3",
      "name": "python3"
    },
    "language_info": {
      "name": "python"
    }
  },
  "nbformat": 4,
  "nbformat_minor": 0
}